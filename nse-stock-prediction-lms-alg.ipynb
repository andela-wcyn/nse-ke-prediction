{
 "cells": [
  {
   "cell_type": "markdown",
   "metadata": {},
   "source": [
    "# National Stock Exchange Kenya (NSE) Prediction using Linear Regression\n",
    "This notebook describes the process of predicting stock exchange prices of Diamond Trust Bank company using Linear Regression.\n",
    "\n",
    "Linear regression assumes a linear or straight line relationship between the input variables (X) and the single output variable (y).([Machine Learning Mastery](https://machinelearningmastery.com/implement-simple-linear-regression-scratch-python/))\n",
    "\n",
    "The data is scraped from the official [NSE Kenya Website](https://www.nse.co.ke/market-statistics.html). The scraping is done by a simple python script worker deployed on Heroku. The scraper then stores this data into a Google Spreadsheets document. This notebook thus gets the data from that Spreadsheet for use in the analysis\n",
    "\n",
    "First, import the necessary modules:"
   ]
  },
  {
   "cell_type": "code",
   "execution_count": 2,
   "metadata": {},
   "outputs": [],
   "source": [
    "import csv\n",
    "import math\n",
    "import pandas as pd\n",
    "import numpy as np\n",
    "\n",
    "from sklearn import preprocessing, cross_validation, svm\n",
    "from sklearn.linear_model import LinearRegression\n",
    "from spreadsheet import GoogleSpreadSheets"
   ]
  },
  {
   "cell_type": "markdown",
   "metadata": {},
   "source": [
    "### Preparing the data"
   ]
  },
  {
   "cell_type": "code",
   "execution_count": 3,
   "metadata": {},
   "outputs": [],
   "source": [
    "sheets = GoogleSpreadSheets(\"NSE Stocks\", \"DTK\")"
   ]
  },
  {
   "cell_type": "code",
   "execution_count": 45,
   "metadata": {},
   "outputs": [],
   "source": [
    "dtk_data = sheets.get_all_records(head=2)"
   ]
  },
  {
   "cell_type": "markdown",
   "metadata": {},
   "source": [
    "Let's convert the data into csv format for better handling"
   ]
  },
  {
   "cell_type": "code",
   "execution_count": 46,
   "metadata": {},
   "outputs": [],
   "source": [
    "keys = dtk_data[0].keys()\n",
    "with open('dtk_stocks.csv', 'wb') as output_file:\n",
    "    dict_writer = csv.DictWriter(output_file, keys)\n",
    "    dict_writer.writeheader()\n",
    "    dict_writer.writerows(dtk_data)"
   ]
  },
  {
   "cell_type": "code",
   "execution_count": 47,
   "metadata": {},
   "outputs": [
    {
     "name": "stdout",
     "output_type": "stream",
     "text": [
      "(19, 8)\n"
     ]
    },
    {
     "data": {
      "text/html": [
       "<div>\n",
       "<style scoped>\n",
       "    .dataframe tbody tr th:only-of-type {\n",
       "        vertical-align: middle;\n",
       "    }\n",
       "\n",
       "    .dataframe tbody tr th {\n",
       "        vertical-align: top;\n",
       "    }\n",
       "\n",
       "    .dataframe thead th {\n",
       "        text-align: right;\n",
       "    }\n",
       "</style>\n",
       "<table border=\"1\" class=\"dataframe\">\n",
       "  <thead>\n",
       "    <tr style=\"text-align: right;\">\n",
       "      <th></th>\n",
       "      <th>company</th>\n",
       "      <th>volume</th>\n",
       "      <th>last_traded_price_ksh</th>\n",
       "      <th>percentage_change</th>\n",
       "      <th>date</th>\n",
       "      <th>prev_price_ksh</th>\n",
       "      <th>low_ksh</th>\n",
       "      <th>high_ksh</th>\n",
       "    </tr>\n",
       "  </thead>\n",
       "  <tbody>\n",
       "    <tr>\n",
       "      <th>0</th>\n",
       "      <td>Diamond Trust Bank Kenya Ltd Ord 4.00</td>\n",
       "      <td>1500.0</td>\n",
       "      <td>190</td>\n",
       "      <td>-0.52</td>\n",
       "      <td>Thu Nov 16 22:58:11 2017</td>\n",
       "      <td>191</td>\n",
       "      <td>190</td>\n",
       "      <td>190</td>\n",
       "    </tr>\n",
       "    <tr>\n",
       "      <th>1</th>\n",
       "      <td>Diamond Trust Bank Kenya Ltd Ord 4.00</td>\n",
       "      <td>24300.0</td>\n",
       "      <td>187</td>\n",
       "      <td>-1.58</td>\n",
       "      <td>Fri Nov 17 22:38:53 2017</td>\n",
       "      <td>190</td>\n",
       "      <td>186</td>\n",
       "      <td>190</td>\n",
       "    </tr>\n",
       "    <tr>\n",
       "      <th>2</th>\n",
       "      <td>Diamond Trust Bank Kenya Ltd Ord 4.00</td>\n",
       "      <td>32100.0</td>\n",
       "      <td>190</td>\n",
       "      <td>NaN</td>\n",
       "      <td>Mon Nov 20 11:01:00 2017</td>\n",
       "      <td>190</td>\n",
       "      <td>190</td>\n",
       "      <td>190</td>\n",
       "    </tr>\n",
       "    <tr>\n",
       "      <th>3</th>\n",
       "      <td>Diamond Trust Bank Kenya Ltd Ord 4.00</td>\n",
       "      <td>32100.0</td>\n",
       "      <td>190</td>\n",
       "      <td>1.60</td>\n",
       "      <td>Tue Nov 21 15:01:15 2017</td>\n",
       "      <td>187</td>\n",
       "      <td>186</td>\n",
       "      <td>191</td>\n",
       "    </tr>\n",
       "    <tr>\n",
       "      <th>4</th>\n",
       "      <td>Diamond Trust Bank Kenya Ltd Ord 4.00</td>\n",
       "      <td>400.0</td>\n",
       "      <td>175</td>\n",
       "      <td>NaN</td>\n",
       "      <td>Mon Oct 23 11:01:00 2017</td>\n",
       "      <td>175</td>\n",
       "      <td>175</td>\n",
       "      <td>175</td>\n",
       "    </tr>\n",
       "  </tbody>\n",
       "</table>\n",
       "</div>"
      ],
      "text/plain": [
       "                                 company   volume  last_traded_price_ksh  \\\n",
       "0  Diamond Trust Bank Kenya Ltd Ord 4.00   1500.0                    190   \n",
       "1  Diamond Trust Bank Kenya Ltd Ord 4.00  24300.0                    187   \n",
       "2  Diamond Trust Bank Kenya Ltd Ord 4.00  32100.0                    190   \n",
       "3  Diamond Trust Bank Kenya Ltd Ord 4.00  32100.0                    190   \n",
       "4  Diamond Trust Bank Kenya Ltd Ord 4.00    400.0                    175   \n",
       "\n",
       "   percentage_change                      date  prev_price_ksh  low_ksh  \\\n",
       "0              -0.52  Thu Nov 16 22:58:11 2017             191      190   \n",
       "1              -1.58  Fri Nov 17 22:38:53 2017             190      186   \n",
       "2                NaN  Mon Nov 20 11:01:00 2017             190      190   \n",
       "3               1.60  Tue Nov 21 15:01:15 2017             187      186   \n",
       "4                NaN  Mon Oct 23 11:01:00 2017             175      175   \n",
       "\n",
       "   high_ksh  \n",
       "0       190  \n",
       "1       190  \n",
       "2       190  \n",
       "3       191  \n",
       "4       175  "
      ]
     },
     "execution_count": 47,
     "metadata": {},
     "output_type": "execute_result"
    }
   ],
   "source": [
    "dtk_stocks = pd.read_csv('dtk_stocks.csv')\n",
    "print dtk_stocks.shape\n",
    "dtk_stocks.head()"
   ]
  },
  {
   "cell_type": "markdown",
   "metadata": {},
   "source": [
    "Prepare features that affect the last traded price / closing price"
   ]
  },
  {
   "cell_type": "code",
   "execution_count": 48,
   "metadata": {},
   "outputs": [],
   "source": [
    "# Percent volatility ((high - close)/close) * 100\n",
    "dtk_stocks['HIGH_LOW_PERCENT'] = ((dtk_stocks['high_ksh'] - dtk_stocks['last_traded_price_ksh'])/dtk_stocks['last_traded_price_ksh'] * 100)\n",
    "\n",
    "# Daily percent change / Daily move ((new - old)/old)*100\n",
    "dtk_stocks['DAILY_PERCENT_CHANGE'] = ((dtk_stocks['last_traded_price_ksh'] - dtk_stocks['prev_price_ksh'])/dtk_stocks['prev_price_ksh'] * 100)"
   ]
  },
  {
   "cell_type": "markdown",
   "metadata": {},
   "source": [
    "Order the stock data by date:"
   ]
  },
  {
   "cell_type": "code",
   "execution_count": 49,
   "metadata": {},
   "outputs": [
    {
     "data": {
      "text/html": [
       "<div>\n",
       "<style scoped>\n",
       "    .dataframe tbody tr th:only-of-type {\n",
       "        vertical-align: middle;\n",
       "    }\n",
       "\n",
       "    .dataframe tbody tr th {\n",
       "        vertical-align: top;\n",
       "    }\n",
       "\n",
       "    .dataframe thead th {\n",
       "        text-align: right;\n",
       "    }\n",
       "</style>\n",
       "<table border=\"1\" class=\"dataframe\">\n",
       "  <thead>\n",
       "    <tr style=\"text-align: right;\">\n",
       "      <th></th>\n",
       "      <th>company</th>\n",
       "      <th>volume</th>\n",
       "      <th>last_traded_price_ksh</th>\n",
       "      <th>percentage_change</th>\n",
       "      <th>date</th>\n",
       "      <th>prev_price_ksh</th>\n",
       "      <th>low_ksh</th>\n",
       "      <th>high_ksh</th>\n",
       "      <th>HIGH_LOW_PERCENT</th>\n",
       "      <th>DAILY_PERCENT_CHANGE</th>\n",
       "    </tr>\n",
       "  </thead>\n",
       "  <tbody>\n",
       "    <tr>\n",
       "      <th>4</th>\n",
       "      <td>Diamond Trust Bank Kenya Ltd Ord 4.00</td>\n",
       "      <td>400.0</td>\n",
       "      <td>175</td>\n",
       "      <td>NaN</td>\n",
       "      <td>2017-10-23 11:01:00</td>\n",
       "      <td>175</td>\n",
       "      <td>175</td>\n",
       "      <td>175</td>\n",
       "      <td>0.000000</td>\n",
       "      <td>0.000000</td>\n",
       "    </tr>\n",
       "    <tr>\n",
       "      <th>5</th>\n",
       "      <td>Diamond Trust Bank Kenya Ltd Ord 4.00</td>\n",
       "      <td>NaN</td>\n",
       "      <td>175</td>\n",
       "      <td>NaN</td>\n",
       "      <td>2017-10-24 11:01:00</td>\n",
       "      <td>175</td>\n",
       "      <td>175</td>\n",
       "      <td>175</td>\n",
       "      <td>0.000000</td>\n",
       "      <td>0.000000</td>\n",
       "    </tr>\n",
       "    <tr>\n",
       "      <th>6</th>\n",
       "      <td>Diamond Trust Bank Kenya Ltd Ord 4.00</td>\n",
       "      <td>7000.0</td>\n",
       "      <td>178</td>\n",
       "      <td>NaN</td>\n",
       "      <td>2017-10-27 11:01:00</td>\n",
       "      <td>175</td>\n",
       "      <td>175</td>\n",
       "      <td>179</td>\n",
       "      <td>0.561798</td>\n",
       "      <td>1.714286</td>\n",
       "    </tr>\n",
       "    <tr>\n",
       "      <th>7</th>\n",
       "      <td>Diamond Trust Bank Kenya Ltd Ord 4.00</td>\n",
       "      <td>11200.0</td>\n",
       "      <td>178</td>\n",
       "      <td>NaN</td>\n",
       "      <td>2017-10-30 11:01:00</td>\n",
       "      <td>178</td>\n",
       "      <td>175</td>\n",
       "      <td>178</td>\n",
       "      <td>0.000000</td>\n",
       "      <td>0.000000</td>\n",
       "    </tr>\n",
       "    <tr>\n",
       "      <th>8</th>\n",
       "      <td>Diamond Trust Bank Kenya Ltd Ord 4.00</td>\n",
       "      <td>2600.0</td>\n",
       "      <td>179</td>\n",
       "      <td>NaN</td>\n",
       "      <td>2017-10-31 11:01:00</td>\n",
       "      <td>178</td>\n",
       "      <td>178</td>\n",
       "      <td>180</td>\n",
       "      <td>0.558659</td>\n",
       "      <td>0.561798</td>\n",
       "    </tr>\n",
       "  </tbody>\n",
       "</table>\n",
       "</div>"
      ],
      "text/plain": [
       "                                 company   volume  last_traded_price_ksh  \\\n",
       "4  Diamond Trust Bank Kenya Ltd Ord 4.00    400.0                    175   \n",
       "5  Diamond Trust Bank Kenya Ltd Ord 4.00      NaN                    175   \n",
       "6  Diamond Trust Bank Kenya Ltd Ord 4.00   7000.0                    178   \n",
       "7  Diamond Trust Bank Kenya Ltd Ord 4.00  11200.0                    178   \n",
       "8  Diamond Trust Bank Kenya Ltd Ord 4.00   2600.0                    179   \n",
       "\n",
       "   percentage_change                date  prev_price_ksh  low_ksh  high_ksh  \\\n",
       "4                NaN 2017-10-23 11:01:00             175      175       175   \n",
       "5                NaN 2017-10-24 11:01:00             175      175       175   \n",
       "6                NaN 2017-10-27 11:01:00             175      175       179   \n",
       "7                NaN 2017-10-30 11:01:00             178      175       178   \n",
       "8                NaN 2017-10-31 11:01:00             178      178       180   \n",
       "\n",
       "   HIGH_LOW_PERCENT  DAILY_PERCENT_CHANGE  \n",
       "4          0.000000              0.000000  \n",
       "5          0.000000              0.000000  \n",
       "6          0.561798              1.714286  \n",
       "7          0.000000              0.000000  \n",
       "8          0.558659              0.561798  "
      ]
     },
     "execution_count": 49,
     "metadata": {},
     "output_type": "execute_result"
    }
   ],
   "source": [
    "dtk_stocks['date'] = pd.to_datetime(dtk_stocks['date'])\n",
    "dtk_stocks\n",
    "dtk_stocks = dtk_stocks.sort_values('date')\n",
    "dtk_stocks.head()"
   ]
  },
  {
   "cell_type": "markdown",
   "metadata": {},
   "source": [
    "Filter out columns / features that will not be used"
   ]
  },
  {
   "cell_type": "code",
   "execution_count": 50,
   "metadata": {},
   "outputs": [
    {
     "data": {
      "text/html": [
       "<div>\n",
       "<style scoped>\n",
       "    .dataframe tbody tr th:only-of-type {\n",
       "        vertical-align: middle;\n",
       "    }\n",
       "\n",
       "    .dataframe tbody tr th {\n",
       "        vertical-align: top;\n",
       "    }\n",
       "\n",
       "    .dataframe thead th {\n",
       "        text-align: right;\n",
       "    }\n",
       "</style>\n",
       "<table border=\"1\" class=\"dataframe\">\n",
       "  <thead>\n",
       "    <tr style=\"text-align: right;\">\n",
       "      <th></th>\n",
       "      <th>prev_price_ksh</th>\n",
       "      <th>last_traded_price_ksh</th>\n",
       "    </tr>\n",
       "  </thead>\n",
       "  <tbody>\n",
       "    <tr>\n",
       "      <th>4</th>\n",
       "      <td>175</td>\n",
       "      <td>175</td>\n",
       "    </tr>\n",
       "    <tr>\n",
       "      <th>5</th>\n",
       "      <td>175</td>\n",
       "      <td>175</td>\n",
       "    </tr>\n",
       "    <tr>\n",
       "      <th>6</th>\n",
       "      <td>175</td>\n",
       "      <td>178</td>\n",
       "    </tr>\n",
       "    <tr>\n",
       "      <th>7</th>\n",
       "      <td>178</td>\n",
       "      <td>178</td>\n",
       "    </tr>\n",
       "    <tr>\n",
       "      <th>8</th>\n",
       "      <td>178</td>\n",
       "      <td>179</td>\n",
       "    </tr>\n",
       "  </tbody>\n",
       "</table>\n",
       "</div>"
      ],
      "text/plain": [
       "   prev_price_ksh  last_traded_price_ksh\n",
       "4             175                    175\n",
       "5             175                    175\n",
       "6             175                    178\n",
       "7             178                    178\n",
       "8             178                    179"
      ]
     },
     "execution_count": 50,
     "metadata": {},
     "output_type": "execute_result"
    }
   ],
   "source": [
    "features = ['prev_price_ksh', 'last_traded_price_ksh']\n",
    "dtk_stocks = dtk_stocks[features]\n",
    "dtk_stocks.head()"
   ]
  },
  {
   "cell_type": "code",
   "execution_count": 52,
   "metadata": {},
   "outputs": [
    {
     "data": {
      "text/html": [
       "<div>\n",
       "<style scoped>\n",
       "    .dataframe tbody tr th:only-of-type {\n",
       "        vertical-align: middle;\n",
       "    }\n",
       "\n",
       "    .dataframe tbody tr th {\n",
       "        vertical-align: top;\n",
       "    }\n",
       "\n",
       "    .dataframe thead th {\n",
       "        text-align: right;\n",
       "    }\n",
       "</style>\n",
       "<table border=\"1\" class=\"dataframe\">\n",
       "  <thead>\n",
       "    <tr style=\"text-align: right;\">\n",
       "      <th></th>\n",
       "      <th>prev_price_ksh</th>\n",
       "      <th>last_traded_price_ksh</th>\n",
       "    </tr>\n",
       "  </thead>\n",
       "  <tbody>\n",
       "    <tr>\n",
       "      <th>4</th>\n",
       "      <td>175</td>\n",
       "      <td>175</td>\n",
       "    </tr>\n",
       "    <tr>\n",
       "      <th>5</th>\n",
       "      <td>175</td>\n",
       "      <td>175</td>\n",
       "    </tr>\n",
       "    <tr>\n",
       "      <th>6</th>\n",
       "      <td>175</td>\n",
       "      <td>178</td>\n",
       "    </tr>\n",
       "    <tr>\n",
       "      <th>7</th>\n",
       "      <td>178</td>\n",
       "      <td>178</td>\n",
       "    </tr>\n",
       "    <tr>\n",
       "      <th>8</th>\n",
       "      <td>178</td>\n",
       "      <td>179</td>\n",
       "    </tr>\n",
       "  </tbody>\n",
       "</table>\n",
       "</div>"
      ],
      "text/plain": [
       "   prev_price_ksh  last_traded_price_ksh\n",
       "4             175                    175\n",
       "5             175                    175\n",
       "6             175                    178\n",
       "7             178                    178\n",
       "8             178                    179"
      ]
     },
     "execution_count": 52,
     "metadata": {},
     "output_type": "execute_result"
    }
   ],
   "source": [
    "forecast_feature = 'last_traded_price_ksh' #  The column to be predicted by the model\n",
    "\n",
    "# Set default values for Undefined data. This will be treated as an outlier\n",
    "dtk_stocks.dropna() \n",
    "\n",
    "# Try to predict 10 percent of the data frame. \n",
    "# Using data from 10% of total days ago to predict today\n",
    "# forecast_out = int(math.ceil(0.01*len(dtk_stocks))) \n",
    "# print forecast_out\n",
    "\n",
    "# Make each column the last traded price 10% of total days into the future. Shift it 10% of total days\n",
    "# dtk_stocks['label'] = dtk_stocks[forecast_feature].shift(-forecast_out) \n",
    "# dtk_stocks['label'] = dtk_stocks[forecast_feature] \n",
    "dtk_stocks.dropna(inplace=True)\n",
    "dtk_stocks.head()"
   ]
  },
  {
   "cell_type": "markdown",
   "metadata": {},
   "source": [
    "Features will be defined as uppercase X and labels as lowercase y"
   ]
  },
  {
   "cell_type": "code",
   "execution_count": 53,
   "metadata": {},
   "outputs": [],
   "source": [
    "\n",
    "X = np.array(dtk_stocks.drop(['last_traded_price_ksh'], axis=1)) # Drop the 'last_traded_price_ksh' feature. Returns a new dataframe\n",
    "y = np.array(dtk_stocks['last_traded_price_ksh'])"
   ]
  },
  {
   "cell_type": "markdown",
   "metadata": {},
   "source": [
    "Now, scale / normalize the data to fit `-1` to `1` values"
   ]
  },
  {
   "cell_type": "code",
   "execution_count": 54,
   "metadata": {},
   "outputs": [
    {
     "name": "stdout",
     "output_type": "stream",
     "text": [
      "19 19\n",
      "[[175]\n",
      " [175]\n",
      " [175]\n",
      " [178]\n",
      " [178]\n",
      " [180]\n",
      " [180]\n",
      " [181]\n",
      " [184]\n",
      " [185]\n",
      " [186]\n",
      " [187]\n",
      " [188]\n",
      " [191]\n",
      " [191]\n",
      " [190]\n",
      " [190]\n",
      " [187]\n",
      " [190]] [175 175 178 178 179 180 181 184 185 186 187 188 189 191 190 187 190 190\n",
      " 190]\n"
     ]
    }
   ],
   "source": [
    "# X = preprocessing.scale(X)\n",
    "# X = X[:-forecast_out] # Want to make sure we have X's only where we have values for Y\n",
    "# X_lately = X[-forecast_out]\n",
    "# y = preprocessing.scale(y)\n",
    "print len(X), len(y) # Check to see if the lengths are equal\n",
    "\n",
    "print X, y"
   ]
  },
  {
   "cell_type": "markdown",
   "metadata": {},
   "source": [
    "### Scatterplot of the dataset"
   ]
  },
  {
   "cell_type": "code",
   "execution_count": 55,
   "metadata": {},
   "outputs": [
    {
     "data": {
      "image/png": "[encoded data removed]",
      "text/plain": [
       "<matplotlib.figure.Figure at 0x10d855e50>"
      ]
     },
     "metadata": {},
     "output_type": "display_data"
    }
   ],
   "source": [
    "%matplotlib inline\n",
    "import matplotlib.pyplot as plt\n",
    "plt.scatter(X, y);"
   ]
  },
  {
   "cell_type": "markdown",
   "metadata": {},
   "source": [
    "### Defining the model\n",
    "`y = c + m * x`\n",
    "\n",
    "Where `c` is the y intercept, and `m` is te gradient\n",
    "\n",
    "#### Least Mean Squares Algorithm"
   ]
  },
  {
   "cell_type": "code",
   "execution_count": 79,
   "metadata": {},
   "outputs": [
    {
     "name": "stdout",
     "output_type": "stream",
     "text": [
      "183.736842105 184.368421053\n",
      "X:  [[175]\n",
      " [175]\n",
      " [175]\n",
      " [178]\n",
      " [178]\n",
      " [180]\n",
      " [180]\n",
      " [181]\n",
      " [184]\n",
      " [185]\n",
      " [186]\n",
      " [187]\n",
      " [188]\n",
      " [191]\n",
      " [191]\n",
      " [190]\n",
      " [190]\n",
      " [187]\n",
      " [190]]\n",
      "[[-8.73684211]\n",
      " [-8.73684211]\n",
      " [-8.73684211]\n",
      " [-5.73684211]\n",
      " [-5.73684211]\n",
      " [-3.73684211]\n",
      " [-3.73684211]\n",
      " [-2.73684211]\n",
      " [ 0.26315789]\n",
      " [ 1.26315789]\n",
      " [ 2.26315789]\n",
      " [ 3.26315789]\n",
      " [ 4.26315789]\n",
      " [ 7.26315789]\n",
      " [ 7.26315789]\n",
      " [ 6.26315789]\n",
      " [ 6.26315789]\n",
      " [ 3.26315789]\n",
      " [ 6.26315789]] [-9.36842105 -9.36842105 -6.36842105 -6.36842105 -5.36842105 -4.36842105\n",
      " -3.36842105 -0.36842105  0.63157895  1.63157895  2.63157895  3.63157895\n",
      "  4.63157895  6.63157895  5.63157895  2.63157895  5.63157895  5.63157895\n",
      "  5.63157895]\n",
      "[array([ 81.85041551]), array([ 81.85041551]), array([ 55.6398892]), array([ 36.53462604]), array([ 30.79778393]), array([ 16.32409972]), array([ 12.58725762]), array([ 1.00831025]), array([ 0.16620499]), array([ 2.06094183]), array([ 5.95567867]), array([ 11.85041551]), array([ 19.74515235]), array([ 48.16620499]), array([ 40.90304709]), array([ 16.48199446]), array([ 35.27146814]), array([ 18.3767313]), array([ 35.27146814])]\n"
     ]
    }
   ],
   "source": [
    "X_mean = np.mean(X)\n",
    "y_mean = np.mean(y)\n",
    "\n",
    "# print \"Arr: \", X_flat\n",
    "print X_mean, y_mean\n",
    "\n",
    "\n",
    "X_mean_diff = X - X_mean \n",
    "y_mean_diff = y - y_mean\n",
    "\n",
    "print \"X: \", X\n",
    "\n",
    "print X_mean_diff, y_mean_diff\n",
    "X_square_diff = X_mean_diff * X_mean_diff\n",
    "\n",
    "# print X_square_diff\n",
    "mean_diff_product = map(lambda x, y: x * y, X_mean_diff, y_mean_diff)\n",
    "print mean_diff_product\n",
    "\n",
    "# print sum(X_mean_diff)\n",
    "\n",
    "# y_hat = c + m*x\n",
    "# # print X\n",
    "# x_mean_diff\n",
    "# m = sum((x(i) - mean(x)) * (y(i) - mean(y))) / sum( (x(i) - mean(x))^2 )\n",
    "# c = mean(y) - B1 * mean(x)"
   ]
  },
  {
   "cell_type": "markdown",
   "metadata": {},
   "source": [
    "### Calculating the slope (m)\n",
    "Formula:\n",
    "\n",
    "```m = sum((X - X_mean)(y - y_mean)) / sum((X - X_mean)**2) ```\n"
   ]
  },
  {
   "cell_type": "code",
   "execution_count": 80,
   "metadata": {},
   "outputs": [
    {
     "name": "stdout",
     "output_type": "stream",
     "text": [
      "0.918553624715\n",
      "15.5962787432\n"
     ]
    }
   ],
   "source": [
    "m = np.sum(mean_diff_product) / np.sum(X_square_diff)\n",
    "print m\n",
    "\n",
    "# Mean points (X_mean, y_mean)\n",
    "# Find c, the y intercept\n",
    "# Substituting y_mean = c + m(X_mean)\n",
    "# Therefore:\n",
    "# y_mean - m(X_mean)\n",
    "c = y_mean - (m * X_mean)\n",
    "print c\n"
   ]
  },
  {
   "cell_type": "markdown",
   "metadata": {},
   "source": [
    "Regression Line Formula:\n",
    "\n",
    "```\n",
    "y = 0.918553624715(X) + 15.5962787432\n",
    "```\n",
    "\n",
    "Thus, the line passes through point 15.596 on the y axis\n",
    "\n",
    "### Cost Function (R Squared)\n",
    "\n",
    "Calculate the y values for the regression line"
   ]
  },
  {
   "cell_type": "code",
   "execution_count": 82,
   "metadata": {},
   "outputs": [
    {
     "data": {
      "text/plain": [
       "[176.34316306828157,\n",
       " 176.34316306828157,\n",
       " 176.34316306828157,\n",
       " 179.09882394242584,\n",
       " 179.09882394242584,\n",
       " 180.93593119185536,\n",
       " 180.93593119185536,\n",
       " 181.85448481657014,\n",
       " 184.61014569071443,\n",
       " 185.52869931542918,\n",
       " 186.44725294014395,\n",
       " 187.3658065648587,\n",
       " 188.28436018957348,\n",
       " 191.04002106371775,\n",
       " 191.04002106371775,\n",
       " 190.121467439003,\n",
       " 190.121467439003,\n",
       " 187.3658065648587,\n",
       " 190.121467439003]"
      ]
     },
     "execution_count": 82,
     "metadata": {},
     "output_type": "execute_result"
    }
   ],
   "source": [
    "def regression_model(m, c, x_value):\n",
    "    return (m * x_value) + c\n",
    "    \n",
    "\n",
    "X_flat = X.flatten()\n",
    "# print X_flat[0]\n",
    "y_hat = []\n",
    "for value in X.flatten():\n",
    "    y_hat.append(regression_model(m, c, value))\n",
    "\n",
    "y_hat\n",
    "    "
   ]
  },
  {
   "cell_type": "markdown",
   "metadata": {},
   "source": [
    "#### Plot Regression line"
   ]
  },
  {
   "cell_type": "code",
   "execution_count": 83,
   "metadata": {},
   "outputs": [
    {
     "data": {
      "text/plain": [
       "[<matplotlib.lines.Line2D at 0x1143499d0>]"
      ]
     },
     "execution_count": 83,
     "metadata": {},
     "output_type": "execute_result"
    },
    {
     "data": {
      "image/png": "[encoded data removed]",
      "text/plain": [
       "<matplotlib.figure.Figure at 0x1142c6e50>"
      ]
     },
     "metadata": {},
     "output_type": "display_data"
    }
   ],
   "source": [
    "import matplotlib.pyplot as plt\n",
    "m, c = np.polyfit(X.flatten(), y_hat, 1)\n",
    "plt.scatter(X, y);\n",
    "plt.plot(X, m*X + c, '-')"
   ]
  },
  {
   "cell_type": "markdown",
   "metadata": {},
   "source": [
    "### Training the Data\n",
    "The training is carried out using the cross validatoin method"
   ]
  },
  {
   "cell_type": "code",
   "execution_count": 32,
   "metadata": {},
   "outputs": [
    {
     "name": "stdout",
     "output_type": "stream",
     "text": [
      "-0.0365996924174\n"
     ]
    }
   ],
   "source": [
    "# Use 20 percent of the data as testing data\n",
    "X_train, X_test, y_train, y_test = cross_validation.train_test_split(X, y, test_size=0.8)\n",
    "\n",
    "#Fit the classifier\n",
    "classifier = LinearRegression()\n",
    "classifier.fit(X_train, y_train)\n",
    "accuracy = classifier.score(X_test, y_test)\n",
    "\n",
    "print accuracy"
   ]
  },
  {
   "cell_type": "code",
   "execution_count": null,
   "metadata": {},
   "outputs": [],
   "source": []
  }
 ],
 "metadata": {
  "kernelspec": {
   "display_name": "Python2.7 (NSE KE Prediction) ",
   "language": "python",
   "name": "nse-ke-prediction"
  },
  "language_info": {
   "codemirror_mode": {
    "name": "ipython",
    "version": 2
   },
   "file_extension": ".py",
   "mimetype": "text/x-python",
   "name": "python",
   "nbconvert_exporter": "python",
   "pygments_lexer": "ipython2",
   "version": "2.7.13"
  }
 },
 "nbformat": 4,
 "nbformat_minor": 2
}
