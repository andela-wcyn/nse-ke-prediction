{
 "cells": [
  {
   "cell_type": "markdown",
   "metadata": {},
   "source": [
    "# National Stock Exchange Kenya (NSE) Prediction using Linear Regression\n",
    "This notebook describes the process of predicting stock exchange prices of Diamond Trust Bank company using Linear Regression.\n",
    "\n",
    "The data is scraped from the official [NSE Kenya Website](https://www.nse.co.ke/market-statistics.html). The scraping is done by a simple python script worker deployed on Heroku. The scraper then stores this data into a Google Spreadsheets document. This notebook thus gets the data from that Spreadsheet for use in the analysis\n",
    "\n",
    "First, import the necessary modules:"
   ]
  },
  {
   "cell_type": "code",
   "execution_count": 33,
   "metadata": {},
   "outputs": [],
   "source": [
    "import csv\n",
    "import math\n",
    "import pandas as pd\n",
    "import numpy as np\n",
    "\n",
    "from sklearn import preprocessing, cross_validation, svm\n",
    "from sklearn.linear_model import LinearRegression\n",
    "from spreadsheet import GoogleSpreadSheets"
   ]
  },
  {
   "cell_type": "markdown",
   "metadata": {},
   "source": [
    "### Preparing the data"
   ]
  },
  {
   "cell_type": "code",
   "execution_count": 182,
   "metadata": {},
   "outputs": [],
   "source": [
    "sheets = GoogleSpreadSheets(\"NSE Stocks\", \"DTK\")"
   ]
  },
  {
   "cell_type": "code",
   "execution_count": 183,
   "metadata": {},
   "outputs": [],
   "source": [
    "dtk_data = sheets.get_all_records(head=2)"
   ]
  },
  {
   "cell_type": "markdown",
   "metadata": {},
   "source": [
    "Let's convert the data into csv format for better handling"
   ]
  },
  {
   "cell_type": "code",
   "execution_count": 184,
   "metadata": {},
   "outputs": [],
   "source": [
    "keys = dtk_data[0].keys()\n",
    "with open('dtk_stocks.csv', 'wb') as output_file:\n",
    "    dict_writer = csv.DictWriter(output_file, keys)\n",
    "    dict_writer.writeheader()\n",
    "    dict_writer.writerows(dtk_data)"
   ]
  },
  {
   "cell_type": "code",
   "execution_count": 185,
   "metadata": {},
   "outputs": [
    {
     "name": "stdout",
     "output_type": "stream",
     "text": [
      "(20, 8)\n"
     ]
    },
    {
     "data": {
      "text/html": [
       "<div>\n",
       "<style scoped>\n",
       "    .dataframe tbody tr th:only-of-type {\n",
       "        vertical-align: middle;\n",
       "    }\n",
       "\n",
       "    .dataframe tbody tr th {\n",
       "        vertical-align: top;\n",
       "    }\n",
       "\n",
       "    .dataframe thead th {\n",
       "        text-align: right;\n",
       "    }\n",
       "</style>\n",
       "<table border=\"1\" class=\"dataframe\">\n",
       "  <thead>\n",
       "    <tr style=\"text-align: right;\">\n",
       "      <th></th>\n",
       "      <th>company</th>\n",
       "      <th>volume</th>\n",
       "      <th>last_traded_price_ksh</th>\n",
       "      <th>percentage_change</th>\n",
       "      <th>date</th>\n",
       "      <th>prev_price_ksh</th>\n",
       "      <th>low_ksh</th>\n",
       "      <th>high_ksh</th>\n",
       "    </tr>\n",
       "  </thead>\n",
       "  <tbody>\n",
       "    <tr>\n",
       "      <th>0</th>\n",
       "      <td>Diamond Trust Bank Kenya Ltd Ord 4.00</td>\n",
       "      <td>1500.0</td>\n",
       "      <td>190</td>\n",
       "      <td>-0.52</td>\n",
       "      <td>Thu Nov 16 22:58:11 2017</td>\n",
       "      <td>191</td>\n",
       "      <td>190</td>\n",
       "      <td>190</td>\n",
       "    </tr>\n",
       "    <tr>\n",
       "      <th>1</th>\n",
       "      <td>Diamond Trust Bank Kenya Ltd Ord 4.00</td>\n",
       "      <td>24300.0</td>\n",
       "      <td>187</td>\n",
       "      <td>-1.58</td>\n",
       "      <td>Fri Nov 17 22:38:53 2017</td>\n",
       "      <td>190</td>\n",
       "      <td>186</td>\n",
       "      <td>190</td>\n",
       "    </tr>\n",
       "    <tr>\n",
       "      <th>2</th>\n",
       "      <td>Diamond Trust Bank Kenya Ltd Ord 4.00</td>\n",
       "      <td>32100.0</td>\n",
       "      <td>190</td>\n",
       "      <td>NaN</td>\n",
       "      <td>Mon Nov 20 11:01:00 2017</td>\n",
       "      <td>190</td>\n",
       "      <td>190</td>\n",
       "      <td>190</td>\n",
       "    </tr>\n",
       "    <tr>\n",
       "      <th>3</th>\n",
       "      <td>Diamond Trust Bank Kenya Ltd Ord 4.00</td>\n",
       "      <td>32100.0</td>\n",
       "      <td>190</td>\n",
       "      <td>1.60</td>\n",
       "      <td>Tue Nov 21 15:01:15 2017</td>\n",
       "      <td>187</td>\n",
       "      <td>186</td>\n",
       "      <td>191</td>\n",
       "    </tr>\n",
       "    <tr>\n",
       "      <th>4</th>\n",
       "      <td>Diamond Trust Bank Kenya Ltd Ord 4.00</td>\n",
       "      <td>400.0</td>\n",
       "      <td>175</td>\n",
       "      <td>NaN</td>\n",
       "      <td>Mon Oct 23 11:01:00 2017</td>\n",
       "      <td>175</td>\n",
       "      <td>175</td>\n",
       "      <td>175</td>\n",
       "    </tr>\n",
       "  </tbody>\n",
       "</table>\n",
       "</div>"
      ],
      "text/plain": [
       "                                 company   volume  last_traded_price_ksh  \\\n",
       "0  Diamond Trust Bank Kenya Ltd Ord 4.00   1500.0                    190   \n",
       "1  Diamond Trust Bank Kenya Ltd Ord 4.00  24300.0                    187   \n",
       "2  Diamond Trust Bank Kenya Ltd Ord 4.00  32100.0                    190   \n",
       "3  Diamond Trust Bank Kenya Ltd Ord 4.00  32100.0                    190   \n",
       "4  Diamond Trust Bank Kenya Ltd Ord 4.00    400.0                    175   \n",
       "\n",
       "   percentage_change                      date  prev_price_ksh  low_ksh  \\\n",
       "0              -0.52  Thu Nov 16 22:58:11 2017             191      190   \n",
       "1              -1.58  Fri Nov 17 22:38:53 2017             190      186   \n",
       "2                NaN  Mon Nov 20 11:01:00 2017             190      190   \n",
       "3               1.60  Tue Nov 21 15:01:15 2017             187      186   \n",
       "4                NaN  Mon Oct 23 11:01:00 2017             175      175   \n",
       "\n",
       "   high_ksh  \n",
       "0       190  \n",
       "1       190  \n",
       "2       190  \n",
       "3       191  \n",
       "4       175  "
      ]
     },
     "execution_count": 185,
     "metadata": {},
     "output_type": "execute_result"
    }
   ],
   "source": [
    "dtk_stocks = pd.read_csv('dtk_stocks.csv')\n",
    "print dtk_stocks.shape\n",
    "dtk_stocks.head()"
   ]
  },
  {
   "cell_type": "markdown",
   "metadata": {},
   "source": [
    "Prepare features that affect the last traded price / closing price"
   ]
  },
  {
   "cell_type": "code",
   "execution_count": 186,
   "metadata": {},
   "outputs": [],
   "source": [
    "# Percent volatility ((high - close)/close) * 100\n",
    "dtk_stocks['HIGH_LOW_PERCENT'] = ((dtk_stocks['high_ksh'] - dtk_stocks['last_traded_price_ksh'])/dtk_stocks['last_traded_price_ksh'] * 100)\n",
    "\n",
    "# Daily percent change / Daily move ((new - old)/old)*100\n",
    "dtk_stocks['DAILY_PERCENT_CHANGE'] = ((dtk_stocks['last_traded_price_ksh'] - dtk_stocks['prev_price_ksh'])/dtk_stocks['prev_price_ksh'] * 100)"
   ]
  },
  {
   "cell_type": "markdown",
   "metadata": {},
   "source": [
    "Order the stock data by date:"
   ]
  },
  {
   "cell_type": "code",
   "execution_count": 187,
   "metadata": {},
   "outputs": [
    {
     "data": {
      "text/html": [
       "<div>\n",
       "<style scoped>\n",
       "    .dataframe tbody tr th:only-of-type {\n",
       "        vertical-align: middle;\n",
       "    }\n",
       "\n",
       "    .dataframe tbody tr th {\n",
       "        vertical-align: top;\n",
       "    }\n",
       "\n",
       "    .dataframe thead th {\n",
       "        text-align: right;\n",
       "    }\n",
       "</style>\n",
       "<table border=\"1\" class=\"dataframe\">\n",
       "  <thead>\n",
       "    <tr style=\"text-align: right;\">\n",
       "      <th></th>\n",
       "      <th>company</th>\n",
       "      <th>volume</th>\n",
       "      <th>last_traded_price_ksh</th>\n",
       "      <th>percentage_change</th>\n",
       "      <th>date</th>\n",
       "      <th>prev_price_ksh</th>\n",
       "      <th>low_ksh</th>\n",
       "      <th>high_ksh</th>\n",
       "      <th>HIGH_LOW_PERCENT</th>\n",
       "      <th>DAILY_PERCENT_CHANGE</th>\n",
       "    </tr>\n",
       "  </thead>\n",
       "  <tbody>\n",
       "    <tr>\n",
       "      <th>4</th>\n",
       "      <td>Diamond Trust Bank Kenya Ltd Ord 4.00</td>\n",
       "      <td>400.0</td>\n",
       "      <td>175</td>\n",
       "      <td>NaN</td>\n",
       "      <td>2017-10-23 11:01:00</td>\n",
       "      <td>175</td>\n",
       "      <td>175</td>\n",
       "      <td>175</td>\n",
       "      <td>0.000000</td>\n",
       "      <td>0.000000</td>\n",
       "    </tr>\n",
       "    <tr>\n",
       "      <th>5</th>\n",
       "      <td>Diamond Trust Bank Kenya Ltd Ord 4.00</td>\n",
       "      <td>NaN</td>\n",
       "      <td>175</td>\n",
       "      <td>NaN</td>\n",
       "      <td>2017-10-24 11:01:00</td>\n",
       "      <td>175</td>\n",
       "      <td>175</td>\n",
       "      <td>175</td>\n",
       "      <td>0.000000</td>\n",
       "      <td>0.000000</td>\n",
       "    </tr>\n",
       "    <tr>\n",
       "      <th>6</th>\n",
       "      <td>Diamond Trust Bank Kenya Ltd Ord 4.00</td>\n",
       "      <td>7000.0</td>\n",
       "      <td>178</td>\n",
       "      <td>NaN</td>\n",
       "      <td>2017-10-27 11:01:00</td>\n",
       "      <td>175</td>\n",
       "      <td>175</td>\n",
       "      <td>179</td>\n",
       "      <td>0.561798</td>\n",
       "      <td>1.714286</td>\n",
       "    </tr>\n",
       "    <tr>\n",
       "      <th>7</th>\n",
       "      <td>Diamond Trust Bank Kenya Ltd Ord 4.00</td>\n",
       "      <td>11200.0</td>\n",
       "      <td>178</td>\n",
       "      <td>NaN</td>\n",
       "      <td>2017-10-30 11:01:00</td>\n",
       "      <td>178</td>\n",
       "      <td>175</td>\n",
       "      <td>178</td>\n",
       "      <td>0.000000</td>\n",
       "      <td>0.000000</td>\n",
       "    </tr>\n",
       "    <tr>\n",
       "      <th>8</th>\n",
       "      <td>Diamond Trust Bank Kenya Ltd Ord 4.00</td>\n",
       "      <td>2600.0</td>\n",
       "      <td>179</td>\n",
       "      <td>NaN</td>\n",
       "      <td>2017-10-31 11:01:00</td>\n",
       "      <td>178</td>\n",
       "      <td>178</td>\n",
       "      <td>180</td>\n",
       "      <td>0.558659</td>\n",
       "      <td>0.561798</td>\n",
       "    </tr>\n",
       "  </tbody>\n",
       "</table>\n",
       "</div>"
      ],
      "text/plain": [
       "                                 company   volume  last_traded_price_ksh  \\\n",
       "4  Diamond Trust Bank Kenya Ltd Ord 4.00    400.0                    175   \n",
       "5  Diamond Trust Bank Kenya Ltd Ord 4.00      NaN                    175   \n",
       "6  Diamond Trust Bank Kenya Ltd Ord 4.00   7000.0                    178   \n",
       "7  Diamond Trust Bank Kenya Ltd Ord 4.00  11200.0                    178   \n",
       "8  Diamond Trust Bank Kenya Ltd Ord 4.00   2600.0                    179   \n",
       "\n",
       "   percentage_change                date  prev_price_ksh  low_ksh  high_ksh  \\\n",
       "4                NaN 2017-10-23 11:01:00             175      175       175   \n",
       "5                NaN 2017-10-24 11:01:00             175      175       175   \n",
       "6                NaN 2017-10-27 11:01:00             175      175       179   \n",
       "7                NaN 2017-10-30 11:01:00             178      175       178   \n",
       "8                NaN 2017-10-31 11:01:00             178      178       180   \n",
       "\n",
       "   HIGH_LOW_PERCENT  DAILY_PERCENT_CHANGE  \n",
       "4          0.000000              0.000000  \n",
       "5          0.000000              0.000000  \n",
       "6          0.561798              1.714286  \n",
       "7          0.000000              0.000000  \n",
       "8          0.558659              0.561798  "
      ]
     },
     "execution_count": 187,
     "metadata": {},
     "output_type": "execute_result"
    }
   ],
   "source": [
    "dtk_stocks['date'] = pd.to_datetime(dtk_stocks['date'])\n",
    "dtk_stocks\n",
    "dtk_stocks = dtk_stocks.sort_values('date')\n",
    "dtk_stocks.head()"
   ]
  },
  {
   "cell_type": "markdown",
   "metadata": {},
   "source": [
    "Filter out columns / features that will not be used"
   ]
  },
  {
   "cell_type": "code",
   "execution_count": 188,
   "metadata": {},
   "outputs": [
    {
     "data": {
      "text/html": [
       "<div>\n",
       "<style scoped>\n",
       "    .dataframe tbody tr th:only-of-type {\n",
       "        vertical-align: middle;\n",
       "    }\n",
       "\n",
       "    .dataframe tbody tr th {\n",
       "        vertical-align: top;\n",
       "    }\n",
       "\n",
       "    .dataframe thead th {\n",
       "        text-align: right;\n",
       "    }\n",
       "</style>\n",
       "<table border=\"1\" class=\"dataframe\">\n",
       "  <thead>\n",
       "    <tr style=\"text-align: right;\">\n",
       "      <th></th>\n",
       "      <th>volume</th>\n",
       "      <th>last_traded_price_ksh</th>\n",
       "      <th>HIGH_LOW_PERCENT</th>\n",
       "      <th>DAILY_PERCENT_CHANGE</th>\n",
       "    </tr>\n",
       "  </thead>\n",
       "  <tbody>\n",
       "    <tr>\n",
       "      <th>4</th>\n",
       "      <td>400.0</td>\n",
       "      <td>175</td>\n",
       "      <td>0.000000</td>\n",
       "      <td>0.000000</td>\n",
       "    </tr>\n",
       "    <tr>\n",
       "      <th>5</th>\n",
       "      <td>NaN</td>\n",
       "      <td>175</td>\n",
       "      <td>0.000000</td>\n",
       "      <td>0.000000</td>\n",
       "    </tr>\n",
       "    <tr>\n",
       "      <th>6</th>\n",
       "      <td>7000.0</td>\n",
       "      <td>178</td>\n",
       "      <td>0.561798</td>\n",
       "      <td>1.714286</td>\n",
       "    </tr>\n",
       "    <tr>\n",
       "      <th>7</th>\n",
       "      <td>11200.0</td>\n",
       "      <td>178</td>\n",
       "      <td>0.000000</td>\n",
       "      <td>0.000000</td>\n",
       "    </tr>\n",
       "    <tr>\n",
       "      <th>8</th>\n",
       "      <td>2600.0</td>\n",
       "      <td>179</td>\n",
       "      <td>0.558659</td>\n",
       "      <td>0.561798</td>\n",
       "    </tr>\n",
       "  </tbody>\n",
       "</table>\n",
       "</div>"
      ],
      "text/plain": [
       "    volume  last_traded_price_ksh  HIGH_LOW_PERCENT  DAILY_PERCENT_CHANGE\n",
       "4    400.0                    175          0.000000              0.000000\n",
       "5      NaN                    175          0.000000              0.000000\n",
       "6   7000.0                    178          0.561798              1.714286\n",
       "7  11200.0                    178          0.000000              0.000000\n",
       "8   2600.0                    179          0.558659              0.561798"
      ]
     },
     "execution_count": 188,
     "metadata": {},
     "output_type": "execute_result"
    }
   ],
   "source": [
    "features = ['volume', 'last_traded_price_ksh', 'HIGH_LOW_PERCENT', 'DAILY_PERCENT_CHANGE']\n",
    "dtk_stocks = dtk_stocks[features]\n",
    "dtk_stocks.head()"
   ]
  },
  {
   "cell_type": "code",
   "execution_count": 189,
   "metadata": {},
   "outputs": [
    {
     "name": "stdout",
     "output_type": "stream",
     "text": [
      "1\n"
     ]
    },
    {
     "data": {
      "text/html": [
       "<div>\n",
       "<style scoped>\n",
       "    .dataframe tbody tr th:only-of-type {\n",
       "        vertical-align: middle;\n",
       "    }\n",
       "\n",
       "    .dataframe tbody tr th {\n",
       "        vertical-align: top;\n",
       "    }\n",
       "\n",
       "    .dataframe thead th {\n",
       "        text-align: right;\n",
       "    }\n",
       "</style>\n",
       "<table border=\"1\" class=\"dataframe\">\n",
       "  <thead>\n",
       "    <tr style=\"text-align: right;\">\n",
       "      <th></th>\n",
       "      <th>volume</th>\n",
       "      <th>last_traded_price_ksh</th>\n",
       "      <th>HIGH_LOW_PERCENT</th>\n",
       "      <th>DAILY_PERCENT_CHANGE</th>\n",
       "      <th>label</th>\n",
       "    </tr>\n",
       "  </thead>\n",
       "  <tbody>\n",
       "    <tr>\n",
       "      <th>4</th>\n",
       "      <td>400.0</td>\n",
       "      <td>175</td>\n",
       "      <td>0.000000</td>\n",
       "      <td>0.000000</td>\n",
       "      <td>175.0</td>\n",
       "    </tr>\n",
       "    <tr>\n",
       "      <th>5</th>\n",
       "      <td>-99999.0</td>\n",
       "      <td>175</td>\n",
       "      <td>0.000000</td>\n",
       "      <td>0.000000</td>\n",
       "      <td>178.0</td>\n",
       "    </tr>\n",
       "    <tr>\n",
       "      <th>6</th>\n",
       "      <td>7000.0</td>\n",
       "      <td>178</td>\n",
       "      <td>0.561798</td>\n",
       "      <td>1.714286</td>\n",
       "      <td>178.0</td>\n",
       "    </tr>\n",
       "    <tr>\n",
       "      <th>7</th>\n",
       "      <td>11200.0</td>\n",
       "      <td>178</td>\n",
       "      <td>0.000000</td>\n",
       "      <td>0.000000</td>\n",
       "      <td>179.0</td>\n",
       "    </tr>\n",
       "    <tr>\n",
       "      <th>8</th>\n",
       "      <td>2600.0</td>\n",
       "      <td>179</td>\n",
       "      <td>0.558659</td>\n",
       "      <td>0.561798</td>\n",
       "      <td>180.0</td>\n",
       "    </tr>\n",
       "  </tbody>\n",
       "</table>\n",
       "</div>"
      ],
      "text/plain": [
       "    volume  last_traded_price_ksh  HIGH_LOW_PERCENT  DAILY_PERCENT_CHANGE  \\\n",
       "4    400.0                    175          0.000000              0.000000   \n",
       "5 -99999.0                    175          0.000000              0.000000   \n",
       "6   7000.0                    178          0.561798              1.714286   \n",
       "7  11200.0                    178          0.000000              0.000000   \n",
       "8   2600.0                    179          0.558659              0.561798   \n",
       "\n",
       "   label  \n",
       "4  175.0  \n",
       "5  178.0  \n",
       "6  178.0  \n",
       "7  179.0  \n",
       "8  180.0  "
      ]
     },
     "execution_count": 189,
     "metadata": {},
     "output_type": "execute_result"
    }
   ],
   "source": [
    "forecast_feature = 'last_traded_price_ksh' #  The column to be predicted by the model\n",
    "\n",
    "# Set default values for Undefined data. This will be treated as an outlier\n",
    "dtk_stocks.fillna(-99999, inplace=True) \n",
    "\n",
    "# Try to predict 10 percent of the data frame. \n",
    "# Using data from 10% of total days ago to predict today\n",
    "forecast_out = int(math.ceil(0.01*len(dtk_stocks))) \n",
    "print forecast_out\n",
    "\n",
    "# Make each column the last traded price 10% of total days into the future. Shift it 10% of total days\n",
    "dtk_stocks['label'] = dtk_stocks[forecast_feature].shift(-forecast_out) \n",
    "dtk_stocks.dropna(inplace=True)\n",
    "dtk_stocks.head()"
   ]
  },
  {
   "cell_type": "markdown",
   "metadata": {},
   "source": [
    "Features will be defined as uppercase X and labels as lowercase y"
   ]
  },
  {
   "cell_type": "code",
   "execution_count": 190,
   "metadata": {},
   "outputs": [],
   "source": [
    "X = np.array(dtk_stocks.drop(['label'], axis=1)) # Drop the 'label' feature. Returns a new dataframe\n",
    "y = np.array(dtk_stocks['label'])"
   ]
  },
  {
   "cell_type": "markdown",
   "metadata": {},
   "source": [
    "Now, scale / normalize the data to fit `-1` to `1` values"
   ]
  },
  {
   "cell_type": "code",
   "execution_count": 192,
   "metadata": {},
   "outputs": [
    {
     "name": "stdout",
     "output_type": "stream",
     "text": [
      "19 19\n",
      "[[-0.57732445 -0.24029318 -0.62309248 -0.1102887 ]\n",
      " [-1.92893441 -0.24029318 -0.62309248 -0.1102887 ]\n",
      " [-0.48847271 -0.08639755  0.51090588 -0.03695477]\n",
      " [-0.43193069 -0.08639755 -0.62309248 -0.1102887 ]\n",
      " [-0.5477072  -0.035099    0.5045707  -0.08625604]\n",
      " [-0.54636096  0.01619954  0.4983059  -0.1102887 ]\n",
      " [-0.50597381  0.06749808 -0.62309248 -0.08652307]\n",
      " [-0.24480355  0.22139371 -0.62309248 -0.03938572]\n",
      " [ 0.93988631  0.27269226  0.46799784 -0.08703971]\n",
      " [ 0.38927477  0.3239908  -1.70831673 -0.08716538]\n",
      " [-0.13710447  0.37528935  0.45632842 -0.0872897 ]\n",
      " [-0.58136316  0.42658789 -0.62309248 -0.08741269]\n",
      " [ 1.9966835   0.47788643 -0.62309248 -0.08753437]\n",
      " [ 1.9616813  -4.08768395  1.39542461 -2.12470836]\n",
      " [-0.29999932  0.58048352  1.49053798  3.78252072]\n",
      " [ 1.97110497  0.58048352 -0.62309248 -0.1102887 ]\n",
      " [-0.56251582  0.52918498 -0.62309248 -0.13268562]\n",
      " [-0.25557345  0.37528935  2.61517024 -0.1778331 ]\n",
      " [-0.15056685  0.52918498 -0.62309248 -0.1102887 ]] [ 175.  178.  178.  179.  180.  181.  184.  185.  186.  187.  188.  189.\n",
      "  100.  191.  191.  190.  187.  190.  190.]\n"
     ]
    }
   ],
   "source": [
    "X = preprocessing.scale(X)\n",
    "X = X[:-forecast_out] # Want to make sure we have X's only where we have values for Y\n",
    "X_lately = X[-forecast_out]\n",
    "\n",
    "y = np.array(dtk_stocks['label'])\n",
    "print len(X), len(y) # Check to see if the lengths are equal\n",
    "\n",
    "print X, y"
   ]
  },
  {
   "cell_type": "markdown",
   "metadata": {},
   "source": [
    "### Training the Data\n",
    "The training is carried out using the cross validatoin method"
   ]
  },
  {
   "cell_type": "code",
   "execution_count": 193,
   "metadata": {},
   "outputs": [
    {
     "name": "stdout",
     "output_type": "stream",
     "text": [
      "-172.841353324\n"
     ]
    }
   ],
   "source": [
    "# Use 20 percent of the data as testing data\n",
    "X_train, X_test, y_train, y_test = cross_validation.train_test_split(X, y, test_size=0.1)\n",
    "\n",
    "#Fit the classifier\n",
    "classifier = LinearRegression()\n",
    "classifier.fit(X_train, y_train)\n",
    "accuracy = classifier.score(X_test, y_test)\n",
    "\n",
    "print accuracy"
   ]
  },
  {
   "cell_type": "code",
   "execution_count": null,
   "metadata": {},
   "outputs": [],
   "source": []
  }
 ],
 "metadata": {
  "kernelspec": {
   "display_name": "Python2.7 (NSE KE Prediction) ",
   "language": "python",
   "name": "nse-ke-prediction"
  },
  "language_info": {
   "codemirror_mode": {
    "name": "ipython",
    "version": 2
   },
   "file_extension": ".py",
   "mimetype": "text/x-python",
   "name": "python",
   "nbconvert_exporter": "python",
   "pygments_lexer": "ipython2",
   "version": "2.7.13"
  }
 },
 "nbformat": 4,
 "nbformat_minor": 2
}
