{
 "cells": [
  {
   "cell_type": "markdown",
   "metadata": {},
   "source": [
    "# National Stock Exchange Kenya (NSE) Prediction using Linear Regression\n",
    "This notebook describes the process of predicting stock exchange prices of Diamond Trust Bank company using Linear Regression.\n",
    "\n",
    "The data is scraped from the official [NSE Kenya Website](https://www.nse.co.ke/market-statistics.html). The scraping is done by a simple python script worker deployed on Heroku. The scraper then stores this data into a Google Spreadsheets document. This notebook thus gets the data from that Spreadsheet for use in the analysis\n",
    "\n",
    "First, import the necessary modules:"
   ]
  },
  {
   "cell_type": "code",
   "execution_count": 2,
   "metadata": {},
   "outputs": [],
   "source": [
    "from spreadsheet import GoogleSpreadSheets"
   ]
  },
  {
   "cell_type": "code",
   "execution_count": 3,
   "metadata": {},
   "outputs": [],
   "source": [
    "sheets = GoogleSpreadSheets(\"NSE Stocks\", \"DTK\")"
   ]
  },
  {
   "cell_type": "code",
   "execution_count": 4,
   "metadata": {},
   "outputs": [],
   "source": [
    "dtk_data = sheets.get_all_records()"
   ]
  },
  {
   "cell_type": "code",
   "execution_count": 5,
   "metadata": {},
   "outputs": [
    {
     "data": {
      "text/plain": [
       "[{'': 'CHANGE(%)',\n",
       "  'DIAMOND TRUST BANK OF KENYA (DTK)': 'DATE',\n",
       "  'Extra data from:': 'VOLUME',\n",
       "  'https://live.mystocks.co.ke/stock=DTK#': 'HIGH(KSH)'},\n",
       " {'': -0.52,\n",
       "  'DIAMOND TRUST BANK OF KENYA (DTK)': 'Thu Nov 16 22:58:11 2017',\n",
       "  'Extra data from:': 1500,\n",
       "  'https://live.mystocks.co.ke/stock=DTK#': 190},\n",
       " {'': -1.58,\n",
       "  'DIAMOND TRUST BANK OF KENYA (DTK)': 'Fri Nov 17 22:38:53 2017',\n",
       "  'Extra data from:': 24300,\n",
       "  'https://live.mystocks.co.ke/stock=DTK#': 190},\n",
       " {'': '',\n",
       "  'DIAMOND TRUST BANK OF KENYA (DTK)': 'Mon Nov 20 11:01:00 2017',\n",
       "  'Extra data from:': 32100,\n",
       "  'https://live.mystocks.co.ke/stock=DTK#': ''},\n",
       " {'': 1.6,\n",
       "  'DIAMOND TRUST BANK OF KENYA (DTK)': 'Tue Nov 21 15:01:15 2017',\n",
       "  'Extra data from:': 32100,\n",
       "  'https://live.mystocks.co.ke/stock=DTK#': 191},\n",
       " {'': '',\n",
       "  'DIAMOND TRUST BANK OF KENYA (DTK)': 'Mon Oct 23 11:01:00 2017',\n",
       "  'Extra data from:': 400,\n",
       "  'https://live.mystocks.co.ke/stock=DTK#': ''},\n",
       " {'': '',\n",
       "  'DIAMOND TRUST BANK OF KENYA (DTK)': 'Tue Oct 24 11:01:00 2017',\n",
       "  'Extra data from:': '',\n",
       "  'https://live.mystocks.co.ke/stock=DTK#': ''},\n",
       " {'': '',\n",
       "  'DIAMOND TRUST BANK OF KENYA (DTK)': 'Fri Oct 27 11:01:00 2017',\n",
       "  'Extra data from:': 7000,\n",
       "  'https://live.mystocks.co.ke/stock=DTK#': ''},\n",
       " {'': '',\n",
       "  'DIAMOND TRUST BANK OF KENYA (DTK)': 'Mon Oct 30 11:01:00 2017',\n",
       "  'Extra data from:': 11200,\n",
       "  'https://live.mystocks.co.ke/stock=DTK#': ''},\n",
       " {'': '',\n",
       "  'DIAMOND TRUST BANK OF KENYA (DTK)': 'Tue Oct 31 11:01:00 2017',\n",
       "  'Extra data from:': 2600,\n",
       "  'https://live.mystocks.co.ke/stock=DTK#': ''},\n",
       " {'': '',\n",
       "  'DIAMOND TRUST BANK OF KENYA (DTK)': 'Wed Nov 1 11:01:00 2017',\n",
       "  'Extra data from:': 2700,\n",
       "  'https://live.mystocks.co.ke/stock=DTK#': ''},\n",
       " {'': '',\n",
       "  'DIAMOND TRUST BANK OF KENYA (DTK)': 'Thu Nov 2 11:01:00 2017',\n",
       "  'Extra data from:': 5700,\n",
       "  'https://live.mystocks.co.ke/stock=DTK#': ''},\n",
       " {'': '',\n",
       "  'DIAMOND TRUST BANK OF KENYA (DTK)': 'Fri Nov 3 11:01:00 2017',\n",
       "  'Extra data from:': 25100,\n",
       "  'https://live.mystocks.co.ke/stock=DTK#': ''},\n",
       " {'': '',\n",
       "  'DIAMOND TRUST BANK OF KENYA (DTK)': 'Mon Nov 6 11:01:00 2017',\n",
       "  'Extra data from:': 113100,\n",
       "  'https://live.mystocks.co.ke/stock=DTK#': ''},\n",
       " {'': '',\n",
       "  'DIAMOND TRUST BANK OF KENYA (DTK)': 'Tue Nov 7 11:01:00 2017',\n",
       "  'Extra data from:': 72200,\n",
       "  'https://live.mystocks.co.ke/stock=DTK#': ''},\n",
       " {'': '',\n",
       "  'DIAMOND TRUST BANK OF KENYA (DTK)': 'Wed Nov 8 11:01:00 2017',\n",
       "  'Extra data from:': 33100,\n",
       "  'https://live.mystocks.co.ke/stock=DTK#': ''},\n",
       " {'': '',\n",
       "  'DIAMOND TRUST BANK OF KENYA (DTK)': 'Thu Nov 9 11:01:00 2017',\n",
       "  'Extra data from:': 100,\n",
       "  'https://live.mystocks.co.ke/stock=DTK#': ''},\n",
       " {'': '',\n",
       "  'DIAMOND TRUST BANK OF KENYA (DTK)': 'Fri Nov 10 11:01:00 2017',\n",
       "  'Extra data from:': 191600,\n",
       "  'https://live.mystocks.co.ke/stock=DTK#': ''},\n",
       " {'': '',\n",
       "  'DIAMOND TRUST BANK OF KENYA (DTK)': 'Mon Nov 13 11:01:00 2017',\n",
       "  'Extra data from:': 189000,\n",
       "  'https://live.mystocks.co.ke/stock=DTK#': ''},\n",
       " {'': '',\n",
       "  'DIAMOND TRUST BANK OF KENYA (DTK)': 'Tue Nov 14 11:01:00 2017',\n",
       "  'Extra data from:': 21000,\n",
       "  'https://live.mystocks.co.ke/stock=DTK#': ''},\n",
       " {'': '',\n",
       "  'DIAMOND TRUST BANK OF KENYA (DTK)': 'Wed Nov 15 11:01:00 2017',\n",
       "  'Extra data from:': 189700,\n",
       "  'https://live.mystocks.co.ke/stock=DTK#': ''}]"
      ]
     },
     "execution_count": 5,
     "metadata": {},
     "output_type": "execute_result"
    }
   ],
   "source": [
    "dtk_data"
   ]
  },
  {
   "cell_type": "code",
   "execution_count": null,
   "metadata": {},
   "outputs": [],
   "source": []
  }
 ],
 "metadata": {
  "kernelspec": {
   "display_name": "Python2.7 (NSE KE Prediction) ",
   "language": "python",
   "name": "nse-ke-prediction"
  },
  "language_info": {
   "codemirror_mode": {
    "name": "ipython",
    "version": 2
   },
   "file_extension": ".py",
   "mimetype": "text/x-python",
   "name": "python",
   "nbconvert_exporter": "python",
   "pygments_lexer": "ipython2",
   "version": "2.7.13"
  }
 },
 "nbformat": 4,
 "nbformat_minor": 2
}
