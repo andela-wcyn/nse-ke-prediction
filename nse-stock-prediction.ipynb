{
 "cells": [
  {
   "cell_type": "markdown",
   "metadata": {},
   "source": [
    "# National Stock Exchange Kenya (NSE) Prediction using Linear Regression\n",
    "This notebook describes the process of predicting stock exchange prices of Diamond Trust Bank company using Linear Regression.\n",
    "\n",
    "The data is scraped from the official [NSE Kenya Website](https://www.nse.co.ke/market-statistics.html). The scraping is done by a simple python script worker deployed on Heroku. The scraper then stores this data into a Google Spreadsheets document. This notebook thus gets the data from that Spreadsheet for use in the analysis\n",
    "\n",
    "First, import the necessary modules:"
   ]
  },
  {
   "cell_type": "code",
   "execution_count": 8,
   "metadata": {},
   "outputs": [],
   "source": [
    "import csv\n",
    "import math\n",
    "import pandas as pd\n",
    "import numpy as np\n",
    "\n",
    "from sklearn import preprocessing, cross_validation, svm\n",
    "from sklearn.linear_model import LinearRegression\n",
    "from spreadsheet import GoogleSpreadSheets"
   ]
  },
  {
   "cell_type": "code",
   "execution_count": 9,
   "metadata": {},
   "outputs": [],
   "source": [
    "sheets = GoogleSpreadSheets(\"NSE Stocks\", \"DTK\")"
   ]
  },
  {
   "cell_type": "code",
   "execution_count": 10,
   "metadata": {},
   "outputs": [],
   "source": [
    "dtk_data = sheets.get_all_records(head=2)"
   ]
  },
  {
   "cell_type": "markdown",
   "metadata": {},
   "source": [
    "Let's convert the data into csv format for better handling"
   ]
  },
  {
   "cell_type": "code",
   "execution_count": 11,
   "metadata": {},
   "outputs": [],
   "source": [
    "keys = dtk_data[0].keys()\n",
    "with open('dtk_stocks.csv', 'wb') as output_file:\n",
    "    dict_writer = csv.DictWriter(output_file, keys)\n",
    "    dict_writer.writeheader()\n",
    "    dict_writer.writerows(dtk_data)"
   ]
  },
  {
   "cell_type": "code",
   "execution_count": 12,
   "metadata": {},
   "outputs": [
    {
     "name": "stdout",
     "output_type": "stream",
     "text": [
      "(20, 8)\n"
     ]
    },
    {
     "data": {
      "text/html": [
       "<div>\n",
       "<style scoped>\n",
       "    .dataframe tbody tr th:only-of-type {\n",
       "        vertical-align: middle;\n",
       "    }\n",
       "\n",
       "    .dataframe tbody tr th {\n",
       "        vertical-align: top;\n",
       "    }\n",
       "\n",
       "    .dataframe thead th {\n",
       "        text-align: right;\n",
       "    }\n",
       "</style>\n",
       "<table border=\"1\" class=\"dataframe\">\n",
       "  <thead>\n",
       "    <tr style=\"text-align: right;\">\n",
       "      <th></th>\n",
       "      <th>company</th>\n",
       "      <th>volume</th>\n",
       "      <th>last_traded_price_ksh</th>\n",
       "      <th>percentage_change</th>\n",
       "      <th>date</th>\n",
       "      <th>prev_price_ksh</th>\n",
       "      <th>low_ksh</th>\n",
       "      <th>high_ksh</th>\n",
       "    </tr>\n",
       "  </thead>\n",
       "  <tbody>\n",
       "    <tr>\n",
       "      <th>0</th>\n",
       "      <td>Diamond Trust Bank Kenya Ltd Ord 4.00</td>\n",
       "      <td>1500.0</td>\n",
       "      <td>190</td>\n",
       "      <td>-0.52</td>\n",
       "      <td>Thu Nov 16 22:58:11 2017</td>\n",
       "      <td>191.0</td>\n",
       "      <td>190.0</td>\n",
       "      <td>190.0</td>\n",
       "    </tr>\n",
       "    <tr>\n",
       "      <th>1</th>\n",
       "      <td>Diamond Trust Bank Kenya Ltd Ord 4.00</td>\n",
       "      <td>24300.0</td>\n",
       "      <td>187</td>\n",
       "      <td>-1.58</td>\n",
       "      <td>Fri Nov 17 22:38:53 2017</td>\n",
       "      <td>190.0</td>\n",
       "      <td>186.0</td>\n",
       "      <td>190.0</td>\n",
       "    </tr>\n",
       "    <tr>\n",
       "      <th>2</th>\n",
       "      <td>Diamond Trust Bank Kenya Ltd Ord 4.00</td>\n",
       "      <td>32100.0</td>\n",
       "      <td>190</td>\n",
       "      <td>NaN</td>\n",
       "      <td>Mon Nov 20 11:01:00 2017</td>\n",
       "      <td>NaN</td>\n",
       "      <td>NaN</td>\n",
       "      <td>NaN</td>\n",
       "    </tr>\n",
       "    <tr>\n",
       "      <th>3</th>\n",
       "      <td>Diamond Trust Bank Kenya Ltd Ord 4.00</td>\n",
       "      <td>32100.0</td>\n",
       "      <td>190</td>\n",
       "      <td>1.60</td>\n",
       "      <td>Tue Nov 21 15:01:15 2017</td>\n",
       "      <td>187.0</td>\n",
       "      <td>186.0</td>\n",
       "      <td>191.0</td>\n",
       "    </tr>\n",
       "    <tr>\n",
       "      <th>4</th>\n",
       "      <td>Diamond Trust Bank Kenya Ltd Ord 4.00</td>\n",
       "      <td>400.0</td>\n",
       "      <td>175</td>\n",
       "      <td>NaN</td>\n",
       "      <td>Mon Oct 23 11:01:00 2017</td>\n",
       "      <td>NaN</td>\n",
       "      <td>NaN</td>\n",
       "      <td>NaN</td>\n",
       "    </tr>\n",
       "  </tbody>\n",
       "</table>\n",
       "</div>"
      ],
      "text/plain": [
       "                                 company   volume  last_traded_price_ksh  \\\n",
       "0  Diamond Trust Bank Kenya Ltd Ord 4.00   1500.0                    190   \n",
       "1  Diamond Trust Bank Kenya Ltd Ord 4.00  24300.0                    187   \n",
       "2  Diamond Trust Bank Kenya Ltd Ord 4.00  32100.0                    190   \n",
       "3  Diamond Trust Bank Kenya Ltd Ord 4.00  32100.0                    190   \n",
       "4  Diamond Trust Bank Kenya Ltd Ord 4.00    400.0                    175   \n",
       "\n",
       "   percentage_change                      date  prev_price_ksh  low_ksh  \\\n",
       "0              -0.52  Thu Nov 16 22:58:11 2017           191.0    190.0   \n",
       "1              -1.58  Fri Nov 17 22:38:53 2017           190.0    186.0   \n",
       "2                NaN  Mon Nov 20 11:01:00 2017             NaN      NaN   \n",
       "3               1.60  Tue Nov 21 15:01:15 2017           187.0    186.0   \n",
       "4                NaN  Mon Oct 23 11:01:00 2017             NaN      NaN   \n",
       "\n",
       "   high_ksh  \n",
       "0     190.0  \n",
       "1     190.0  \n",
       "2       NaN  \n",
       "3     191.0  \n",
       "4       NaN  "
      ]
     },
     "execution_count": 12,
     "metadata": {},
     "output_type": "execute_result"
    }
   ],
   "source": [
    "dtk_stocks = pd.read_csv('dtk_stocks.csv')\n",
    "print dtk_stocks.shape\n",
    "dtk_stocks.head()"
   ]
  },
  {
   "cell_type": "markdown",
   "metadata": {},
   "source": [
    "Filter out columns / features that will not be used"
   ]
  },
  {
   "cell_type": "code",
   "execution_count": 14,
   "metadata": {},
   "outputs": [
    {
     "data": {
      "text/html": [
       "<div>\n",
       "<style scoped>\n",
       "    .dataframe tbody tr th:only-of-type {\n",
       "        vertical-align: middle;\n",
       "    }\n",
       "\n",
       "    .dataframe tbody tr th {\n",
       "        vertical-align: top;\n",
       "    }\n",
       "\n",
       "    .dataframe thead th {\n",
       "        text-align: right;\n",
       "    }\n",
       "</style>\n",
       "<table border=\"1\" class=\"dataframe\">\n",
       "  <thead>\n",
       "    <tr style=\"text-align: right;\">\n",
       "      <th></th>\n",
       "      <th>volume</th>\n",
       "      <th>last_traded_price_ksh</th>\n",
       "    </tr>\n",
       "  </thead>\n",
       "  <tbody>\n",
       "    <tr>\n",
       "      <th>0</th>\n",
       "      <td>1500.0</td>\n",
       "      <td>190</td>\n",
       "    </tr>\n",
       "    <tr>\n",
       "      <th>1</th>\n",
       "      <td>24300.0</td>\n",
       "      <td>187</td>\n",
       "    </tr>\n",
       "    <tr>\n",
       "      <th>2</th>\n",
       "      <td>32100.0</td>\n",
       "      <td>190</td>\n",
       "    </tr>\n",
       "    <tr>\n",
       "      <th>3</th>\n",
       "      <td>32100.0</td>\n",
       "      <td>190</td>\n",
       "    </tr>\n",
       "    <tr>\n",
       "      <th>4</th>\n",
       "      <td>400.0</td>\n",
       "      <td>175</td>\n",
       "    </tr>\n",
       "  </tbody>\n",
       "</table>\n",
       "</div>"
      ],
      "text/plain": [
       "    volume  last_traded_price_ksh\n",
       "0   1500.0                    190\n",
       "1  24300.0                    187\n",
       "2  32100.0                    190\n",
       "3  32100.0                    190\n",
       "4    400.0                    175"
      ]
     },
     "execution_count": 14,
     "metadata": {},
     "output_type": "execute_result"
    }
   ],
   "source": [
    "features = ['volume', 'last_traded_price_ksh']\n",
    "dtk_stocks = dtk_stocks[features]\n",
    "dtk_stocks.head()"
   ]
  },
  {
   "cell_type": "code",
   "execution_count": 30,
   "metadata": {},
   "outputs": [
    {
     "name": "stdout",
     "output_type": "stream",
     "text": [
      "2\n"
     ]
    },
    {
     "data": {
      "text/html": [
       "<div>\n",
       "<style scoped>\n",
       "    .dataframe tbody tr th:only-of-type {\n",
       "        vertical-align: middle;\n",
       "    }\n",
       "\n",
       "    .dataframe tbody tr th {\n",
       "        vertical-align: top;\n",
       "    }\n",
       "\n",
       "    .dataframe thead th {\n",
       "        text-align: right;\n",
       "    }\n",
       "</style>\n",
       "<table border=\"1\" class=\"dataframe\">\n",
       "  <thead>\n",
       "    <tr style=\"text-align: right;\">\n",
       "      <th></th>\n",
       "      <th>volume</th>\n",
       "      <th>last_traded_price_ksh</th>\n",
       "      <th>label</th>\n",
       "    </tr>\n",
       "  </thead>\n",
       "  <tbody>\n",
       "    <tr>\n",
       "      <th>0</th>\n",
       "      <td>1500.0</td>\n",
       "      <td>190</td>\n",
       "      <td>190.0</td>\n",
       "    </tr>\n",
       "    <tr>\n",
       "      <th>1</th>\n",
       "      <td>24300.0</td>\n",
       "      <td>187</td>\n",
       "      <td>190.0</td>\n",
       "    </tr>\n",
       "    <tr>\n",
       "      <th>2</th>\n",
       "      <td>32100.0</td>\n",
       "      <td>190</td>\n",
       "      <td>175.0</td>\n",
       "    </tr>\n",
       "    <tr>\n",
       "      <th>3</th>\n",
       "      <td>32100.0</td>\n",
       "      <td>190</td>\n",
       "      <td>175.0</td>\n",
       "    </tr>\n",
       "    <tr>\n",
       "      <th>4</th>\n",
       "      <td>400.0</td>\n",
       "      <td>175</td>\n",
       "      <td>178.0</td>\n",
       "    </tr>\n",
       "  </tbody>\n",
       "</table>\n",
       "</div>"
      ],
      "text/plain": [
       "    volume  last_traded_price_ksh  label\n",
       "0   1500.0                    190  190.0\n",
       "1  24300.0                    187  190.0\n",
       "2  32100.0                    190  175.0\n",
       "3  32100.0                    190  175.0\n",
       "4    400.0                    175  178.0"
      ]
     },
     "execution_count": 30,
     "metadata": {},
     "output_type": "execute_result"
    }
   ],
   "source": [
    "forecast_feature = 'last_traded_price_ksh' #  The column to be predicted by the model\n",
    "\n",
    "# Set default values for Undefined data. This will be treated as an outlier\n",
    "dtk_stocks.fillna(-99999, inplace=True) \n",
    "\n",
    "# Try to predict 10 percent of the data frame. \n",
    "# Using data from 10% of total days ago to predict today\n",
    "forecast_out = int(math.ceil(0.1*len(dtk_stocks))) \n",
    "print forecast_out\n",
    "\n",
    "# Make each column the last traded price 10% of total days into the future. Shift it 10% of total days\n",
    "dtk_stocks['label'] = dtk_stocks[forecast_feature].shift(-forecast_out) \n",
    "dtk_stocks.dropna(inplace=True)\n",
    "dtk_stocks.head()"
   ]
  },
  {
   "cell_type": "markdown",
   "metadata": {},
   "source": [
    "Features will be defined as uppercase X and labels as lowercase y"
   ]
  },
  {
   "cell_type": "code",
   "execution_count": 31,
   "metadata": {},
   "outputs": [],
   "source": [
    "X = np.array(dtk_stocks.drop(['label'], axis=1)) # Drop the 'label' feature. Returns a new dataframe\n",
    "y = np.array(dtk_stocks['label'])"
   ]
  },
  {
   "cell_type": "markdown",
   "metadata": {},
   "source": [
    "Now, scale / normalize the data to fit `-1` to `1` values"
   ]
  },
  {
   "cell_type": "code",
   "execution_count": 32,
   "metadata": {},
   "outputs": [
    {
     "name": "stdout",
     "output_type": "stream",
     "text": [
      "16 16\n"
     ]
    }
   ],
   "source": [
    "X = preprocessing.scale(X)\n",
    "# X = X[:-forecast_out+1] # Want to make sure we have X's only where we have values for Y\n",
    "\n",
    "y = np.array(dtk_stocks['label'])\n",
    "print len(X), len(y) # Check to see if the lengths are equal"
   ]
  },
  {
   "cell_type": "markdown",
   "metadata": {},
   "source": []
  }
 ],
 "metadata": {
  "kernelspec": {
   "display_name": "Python2.7 (NSE KE Prediction) ",
   "language": "python",
   "name": "nse-ke-prediction"
  },
  "language_info": {
   "codemirror_mode": {
    "name": "ipython",
    "version": 2
   },
   "file_extension": ".py",
   "mimetype": "text/x-python",
   "name": "python",
   "nbconvert_exporter": "python",
   "pygments_lexer": "ipython2",
   "version": "2.7.13"
  }
 },
 "nbformat": 4,
 "nbformat_minor": 2
}
