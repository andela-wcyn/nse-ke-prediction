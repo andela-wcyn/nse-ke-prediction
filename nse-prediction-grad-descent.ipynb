{
 "cells": [
  {
   "cell_type": "markdown",
   "metadata": {},
   "source": [
    "# National Stock Exchange Kenya (NSE) Prediction using Linear Regression\n",
    "This notebook describes the process of predicting stock exchange prices of Diamond Trust Bank company using Linear Regression. The specific algorithm to be used is Gradient Descent.\n",
    "\n",
    "Linear regression assumes a linear or straight line relationship between the input variables (X) and the single output variable (y).([Machine Learning Mastery](https://machinelearningmastery.com/implement-simple-linear-regression-scratch-python/))\n",
    "\n",
    "The data is scraped from the official [NSE Kenya Website](https://www.nse.co.ke/market-statistics.html). The scraping is done by a simple python script worker deployed on Heroku. The scraper then stores this data into a Google Spreadsheets document. This notebook thus gets the data from that Spreadsheet for use in the analysis\n",
    "\n",
    "First, import the necessary modules:"
   ]
  },
  {
   "cell_type": "code",
   "execution_count": 3,
   "metadata": {},
   "outputs": [],
   "source": [
    "import csv\n",
    "import math\n",
    "import pandas as pd\n",
    "import numpy as np\n",
    "\n",
    "from sklearn import preprocessing, cross_validation, svm\n",
    "from sklearn.linear_model import LinearRegression\n",
    "from spreadsheet import GoogleSpreadSheets"
   ]
  },
  {
   "cell_type": "markdown",
   "metadata": {},
   "source": [
    "### Preparing the data"
   ]
  },
  {
   "cell_type": "code",
   "execution_count": 4,
   "metadata": {},
   "outputs": [],
   "source": [
    "sheets = GoogleSpreadSheets(\"NSE Stocks\", \"DTK\")"
   ]
  },
  {
   "cell_type": "code",
   "execution_count": 5,
   "metadata": {},
   "outputs": [],
   "source": [
    "dtk_data = sheets.get_all_records(head=2)"
   ]
  },
  {
   "cell_type": "markdown",
   "metadata": {},
   "source": [
    "Let's convert the data into csv format for better handling"
   ]
  },
  {
   "cell_type": "code",
   "execution_count": 6,
   "metadata": {},
   "outputs": [],
   "source": [
    "keys = dtk_data[0].keys()\n",
    "with open('dtk_stocks.csv', 'wb') as output_file:\n",
    "    dict_writer = csv.DictWriter(output_file, keys)\n",
    "    dict_writer.writeheader()\n",
    "    dict_writer.writerows(dtk_data)"
   ]
  },
  {
   "cell_type": "code",
   "execution_count": 7,
   "metadata": {},
   "outputs": [
    {
     "name": "stdout",
     "output_type": "stream",
     "text": [
      "(19, 8)\n"
     ]
    },
    {
     "data": {
      "text/html": [
       "<div>\n",
       "<style scoped>\n",
       "    .dataframe tbody tr th:only-of-type {\n",
       "        vertical-align: middle;\n",
       "    }\n",
       "\n",
       "    .dataframe tbody tr th {\n",
       "        vertical-align: top;\n",
       "    }\n",
       "\n",
       "    .dataframe thead th {\n",
       "        text-align: right;\n",
       "    }\n",
       "</style>\n",
       "<table border=\"1\" class=\"dataframe\">\n",
       "  <thead>\n",
       "    <tr style=\"text-align: right;\">\n",
       "      <th></th>\n",
       "      <th>company</th>\n",
       "      <th>volume</th>\n",
       "      <th>last_traded_price_ksh</th>\n",
       "      <th>percentage_change</th>\n",
       "      <th>date</th>\n",
       "      <th>prev_price_ksh</th>\n",
       "      <th>low_ksh</th>\n",
       "      <th>high_ksh</th>\n",
       "    </tr>\n",
       "  </thead>\n",
       "  <tbody>\n",
       "    <tr>\n",
       "      <th>0</th>\n",
       "      <td>Diamond Trust Bank Kenya Ltd Ord 4.00</td>\n",
       "      <td>1500.0</td>\n",
       "      <td>190</td>\n",
       "      <td>-0.52</td>\n",
       "      <td>Thu Nov 16 22:58:11 2017</td>\n",
       "      <td>191</td>\n",
       "      <td>190</td>\n",
       "      <td>190</td>\n",
       "    </tr>\n",
       "    <tr>\n",
       "      <th>1</th>\n",
       "      <td>Diamond Trust Bank Kenya Ltd Ord 4.00</td>\n",
       "      <td>24300.0</td>\n",
       "      <td>187</td>\n",
       "      <td>-1.58</td>\n",
       "      <td>Fri Nov 17 22:38:53 2017</td>\n",
       "      <td>190</td>\n",
       "      <td>186</td>\n",
       "      <td>190</td>\n",
       "    </tr>\n",
       "    <tr>\n",
       "      <th>2</th>\n",
       "      <td>Diamond Trust Bank Kenya Ltd Ord 4.00</td>\n",
       "      <td>32100.0</td>\n",
       "      <td>190</td>\n",
       "      <td>NaN</td>\n",
       "      <td>Mon Nov 20 11:01:00 2017</td>\n",
       "      <td>190</td>\n",
       "      <td>190</td>\n",
       "      <td>190</td>\n",
       "    </tr>\n",
       "    <tr>\n",
       "      <th>3</th>\n",
       "      <td>Diamond Trust Bank Kenya Ltd Ord 4.00</td>\n",
       "      <td>32100.0</td>\n",
       "      <td>190</td>\n",
       "      <td>1.60</td>\n",
       "      <td>Tue Nov 21 15:01:15 2017</td>\n",
       "      <td>187</td>\n",
       "      <td>186</td>\n",
       "      <td>191</td>\n",
       "    </tr>\n",
       "    <tr>\n",
       "      <th>4</th>\n",
       "      <td>Diamond Trust Bank Kenya Ltd Ord 4.00</td>\n",
       "      <td>400.0</td>\n",
       "      <td>175</td>\n",
       "      <td>NaN</td>\n",
       "      <td>Mon Oct 23 11:01:00 2017</td>\n",
       "      <td>175</td>\n",
       "      <td>175</td>\n",
       "      <td>175</td>\n",
       "    </tr>\n",
       "  </tbody>\n",
       "</table>\n",
       "</div>"
      ],
      "text/plain": [
       "                                 company   volume  last_traded_price_ksh  \\\n",
       "0  Diamond Trust Bank Kenya Ltd Ord 4.00   1500.0                    190   \n",
       "1  Diamond Trust Bank Kenya Ltd Ord 4.00  24300.0                    187   \n",
       "2  Diamond Trust Bank Kenya Ltd Ord 4.00  32100.0                    190   \n",
       "3  Diamond Trust Bank Kenya Ltd Ord 4.00  32100.0                    190   \n",
       "4  Diamond Trust Bank Kenya Ltd Ord 4.00    400.0                    175   \n",
       "\n",
       "   percentage_change                      date  prev_price_ksh  low_ksh  \\\n",
       "0              -0.52  Thu Nov 16 22:58:11 2017             191      190   \n",
       "1              -1.58  Fri Nov 17 22:38:53 2017             190      186   \n",
       "2                NaN  Mon Nov 20 11:01:00 2017             190      190   \n",
       "3               1.60  Tue Nov 21 15:01:15 2017             187      186   \n",
       "4                NaN  Mon Oct 23 11:01:00 2017             175      175   \n",
       "\n",
       "   high_ksh  \n",
       "0       190  \n",
       "1       190  \n",
       "2       190  \n",
       "3       191  \n",
       "4       175  "
      ]
     },
     "execution_count": 7,
     "metadata": {},
     "output_type": "execute_result"
    }
   ],
   "source": [
    "dtk_stocks = pd.read_csv('dtk_stocks.csv')\n",
    "print dtk_stocks.shape\n",
    "dtk_stocks.head()"
   ]
  },
  {
   "cell_type": "markdown",
   "metadata": {},
   "source": [
    "Prepare features that affect the last traded price / closing price"
   ]
  },
  {
   "cell_type": "code",
   "execution_count": 8,
   "metadata": {},
   "outputs": [],
   "source": [
    "# Percent volatility ((high - close)/close) * 100\n",
    "dtk_stocks['HIGH_LOW_PERCENT'] = ((dtk_stocks['high_ksh'] - dtk_stocks['last_traded_price_ksh'])/dtk_stocks['last_traded_price_ksh'] * 100)\n",
    "\n",
    "# Daily percent change / Daily move ((new - old)/old)*100\n",
    "dtk_stocks['DAILY_PERCENT_CHANGE'] = ((dtk_stocks['last_traded_price_ksh'] - dtk_stocks['prev_price_ksh'])/dtk_stocks['prev_price_ksh'] * 100)"
   ]
  },
  {
   "cell_type": "markdown",
   "metadata": {},
   "source": [
    "Filter out columns / features that will not be used"
   ]
  },
  {
   "cell_type": "code",
   "execution_count": 11,
   "metadata": {},
   "outputs": [
    {
     "data": {
      "text/html": [
       "<div>\n",
       "<style scoped>\n",
       "    .dataframe tbody tr th:only-of-type {\n",
       "        vertical-align: middle;\n",
       "    }\n",
       "\n",
       "    .dataframe tbody tr th {\n",
       "        vertical-align: top;\n",
       "    }\n",
       "\n",
       "    .dataframe thead th {\n",
       "        text-align: right;\n",
       "    }\n",
       "</style>\n",
       "<table border=\"1\" class=\"dataframe\">\n",
       "  <thead>\n",
       "    <tr style=\"text-align: right;\">\n",
       "      <th></th>\n",
       "      <th>prev_price_ksh</th>\n",
       "      <th>last_traded_price_ksh</th>\n",
       "    </tr>\n",
       "  </thead>\n",
       "  <tbody>\n",
       "    <tr>\n",
       "      <th>4</th>\n",
       "      <td>175</td>\n",
       "      <td>175</td>\n",
       "    </tr>\n",
       "    <tr>\n",
       "      <th>5</th>\n",
       "      <td>175</td>\n",
       "      <td>175</td>\n",
       "    </tr>\n",
       "    <tr>\n",
       "      <th>6</th>\n",
       "      <td>175</td>\n",
       "      <td>178</td>\n",
       "    </tr>\n",
       "    <tr>\n",
       "      <th>7</th>\n",
       "      <td>178</td>\n",
       "      <td>178</td>\n",
       "    </tr>\n",
       "    <tr>\n",
       "      <th>8</th>\n",
       "      <td>178</td>\n",
       "      <td>179</td>\n",
       "    </tr>\n",
       "  </tbody>\n",
       "</table>\n",
       "</div>"
      ],
      "text/plain": [
       "   prev_price_ksh  last_traded_price_ksh\n",
       "4             175                    175\n",
       "5             175                    175\n",
       "6             175                    178\n",
       "7             178                    178\n",
       "8             178                    179"
      ]
     },
     "execution_count": 11,
     "metadata": {},
     "output_type": "execute_result"
    }
   ],
   "source": [
    "features = ['prev_price_ksh', 'last_traded_price_ksh']\n",
    "dtk_stocks = dtk_stocks[features]\n",
    "dtk_stocks.head()"
   ]
  },
  {
   "cell_type": "code",
   "execution_count": 13,
   "metadata": {},
   "outputs": [
    {
     "data": {
      "text/html": [
       "<div>\n",
       "<style scoped>\n",
       "    .dataframe tbody tr th:only-of-type {\n",
       "        vertical-align: middle;\n",
       "    }\n",
       "\n",
       "    .dataframe tbody tr th {\n",
       "        vertical-align: top;\n",
       "    }\n",
       "\n",
       "    .dataframe thead th {\n",
       "        text-align: right;\n",
       "    }\n",
       "</style>\n",
       "<table border=\"1\" class=\"dataframe\">\n",
       "  <thead>\n",
       "    <tr style=\"text-align: right;\">\n",
       "      <th></th>\n",
       "      <th>prev_price_ksh</th>\n",
       "      <th>last_traded_price_ksh</th>\n",
       "    </tr>\n",
       "  </thead>\n",
       "  <tbody>\n",
       "    <tr>\n",
       "      <th>4</th>\n",
       "      <td>175</td>\n",
       "      <td>175</td>\n",
       "    </tr>\n",
       "    <tr>\n",
       "      <th>5</th>\n",
       "      <td>175</td>\n",
       "      <td>175</td>\n",
       "    </tr>\n",
       "    <tr>\n",
       "      <th>6</th>\n",
       "      <td>175</td>\n",
       "      <td>178</td>\n",
       "    </tr>\n",
       "    <tr>\n",
       "      <th>7</th>\n",
       "      <td>178</td>\n",
       "      <td>178</td>\n",
       "    </tr>\n",
       "    <tr>\n",
       "      <th>8</th>\n",
       "      <td>178</td>\n",
       "      <td>179</td>\n",
       "    </tr>\n",
       "  </tbody>\n",
       "</table>\n",
       "</div>"
      ],
      "text/plain": [
       "   prev_price_ksh  last_traded_price_ksh\n",
       "4             175                    175\n",
       "5             175                    175\n",
       "6             175                    178\n",
       "7             178                    178\n",
       "8             178                    179"
      ]
     },
     "execution_count": 13,
     "metadata": {},
     "output_type": "execute_result"
    }
   ],
   "source": [
    "forecast_feature = 'last_traded_price_ksh' #  The column to be predicted by the model\n",
    "\n",
    "# Drop data that is not defined\n",
    "dtk_stocks.dropna()\n",
    "dtk_stocks.head()"
   ]
  },
  {
   "cell_type": "markdown",
   "metadata": {},
   "source": [
    "Features will be defined as uppercase X and labels as lowercase y"
   ]
  },
  {
   "cell_type": "code",
   "execution_count": 14,
   "metadata": {},
   "outputs": [],
   "source": [
    "X = np.array(dtk_stocks.drop(['last_traded_price_ksh'], axis=1)) # Drop the 'last_traded_price_ksh' feature. Returns a new dataframe\n",
    "y = np.array(dtk_stocks['last_traded_price_ksh'])"
   ]
  },
  {
   "cell_type": "markdown",
   "metadata": {},
   "source": [
    "Now, scale / normalize the data to fit `-1` to `1` values"
   ]
  },
  {
   "cell_type": "code",
   "execution_count": 16,
   "metadata": {},
   "outputs": [
    {
     "name": "stdout",
     "output_type": "stream",
     "text": [
      "19 19\n",
      "[[-1.55514175]\n",
      " [-1.55514175]\n",
      " [-1.55514175]\n",
      " [-1.02114729]\n",
      " [-1.02114729]\n",
      " [-0.66515099]\n",
      " [-0.66515099]\n",
      " [-0.48715284]\n",
      " [ 0.04684162]\n",
      " [ 0.22483977]\n",
      " [ 0.40283792]\n",
      " [ 0.58083607]\n",
      " [ 0.75883423]\n",
      " [ 1.29282868]\n",
      " [ 1.29282868]\n",
      " [ 1.11483053]\n",
      " [ 1.11483053]\n",
      " [ 0.58083607]\n",
      " [ 1.11483053]] [-1.75987647 -1.75987647 -1.19632052 -1.19632052 -1.00846854 -0.82061656\n",
      " -0.63276457 -0.06920863  0.11864336  0.30649534  0.49434732  0.68219931\n",
      "  0.87005129  1.24575526  1.05790327  0.49434732  1.05790327  1.05790327\n",
      "  1.05790327]\n"
     ]
    }
   ],
   "source": [
    "X = preprocessing.scale(X)\n",
    "y = preprocessing.scale(y)\n",
    "print len(X), len(y) # Check to see if the lengths are equal\n",
    "\n",
    "print X, y"
   ]
  },
  {
   "cell_type": "markdown",
   "metadata": {},
   "source": [
    "### Scatterplot of the dataset"
   ]
  },
  {
   "cell_type": "code",
   "execution_count": 17,
   "metadata": {},
   "outputs": [
    {
     "data": {
      "image/png": "[encoded data removed]",
      "text/plain": [
       "<matplotlib.figure.Figure at 0x10ce83050>"
      ]
     },
     "metadata": {},
     "output_type": "display_data"
    }
   ],
   "source": [
    "%matplotlib inline\n",
    "import matplotlib.pyplot as plt\n",
    "plt.scatter(X, y);"
   ]
  },
  {
   "cell_type": "markdown",
   "metadata": {},
   "source": [
    "### Defining the model (creating the functions)\n",
    "`y = c + m * x`\n",
    "\n",
    "Where `c` is the y intercept, and `m` is the gradient\n",
    "\n",
    "#### Gradient Descent Algorithm\n",
    "Start with random values of `m` and `c`, then calculate prediction error using the Sum of Squared Errors method.\n",
    "The SSE formula:\n",
    "\n",
    "SSE = `1/2((y - y_prediction)^2)`\n",
    "\n",
    "Let:\n",
    "`m = 0.3` and `c = 0.2`\n",
    "\n",
    "Also, define a learning rate to use."
   ]
  },
  {
   "cell_type": "code",
   "execution_count": 36,
   "metadata": {},
   "outputs": [
    {
     "name": "stdout",
     "output_type": "stream",
     "text": [
      "[0.45, 0.615, 0.63, 0.6975, 0.7275, 0.78, 0.78, 0.8775, 1.1475, 1.2]\n"
     ]
    },
    {
     "data": {
      "text/plain": [
       "0.670175"
      ]
     },
     "execution_count": 36,
     "metadata": {},
     "output_type": "execute_result"
    }
   ],
   "source": [
    "# Random values for m and c, and a learning rate\n",
    "m = 0.3\n",
    "c = 0.2\n",
    "learning_rate = 0.01\n",
    "\n",
    "# Test values\n",
    "# a = [0.00, 0.22, 0.24, 0.33, 0.37, 0.44, 0.44, 0.57, 0.93, 1.00]\n",
    "# b = [0.00, 0.22, 0.58, 0.20, 0.55, 0.39, 0.54, 0.53, 1.00, 0.61]\n",
    "\n",
    "def regression_model(m, c, x_value):\n",
    "    return (m * x_value) + c\n",
    "\n",
    "def calculate_y_predictions(m, c, x_values):\n",
    "    return [regression_model(m, c, value) for value in x_values]\n",
    "\n",
    "# Function to calculate sum of squared errors\n",
    "def calculate_sse(y, y_predictions):\n",
    "    return [0.5 * ((value[0] - value[1])**2) for value in zip(y, y_predictions)]\n",
    "    \n"
   ]
  },
  {
   "cell_type": "markdown",
   "metadata": {},
   "source": [
    "Calculate the error gradients with regard to the weights.\n",
    "\n",
    "For m (the gradient):\n",
    "\n",
    "`-(y - y_prediction) * X`\n",
    "\n",
    "For b:\n",
    "\n",
    "`-(y - y_prediction)`\n"
   ]
  },
  {
   "cell_type": "code",
   "execution_count": 43,
   "metadata": {},
   "outputs": [
    {
     "data": {
      "text/plain": [
       "1.5312"
      ]
     },
     "execution_count": 43,
     "metadata": {},
     "output_type": "execute_result"
    }
   ],
   "source": [
    "def get_m_gradients(y_values, y_predictions, x_values):\n",
    "    return [((-1 * (value[0] - value[1])) * value[2]) for value in zip(y_values, y_predictions, x_values)]\n",
    "\n",
    "def get_c_gradients(y, y_predictions):\n",
    "    return [(-1 * (value[0] - value[1])) for value in zip(y, y_predictions)]\n",
    "\n",
    "# m_gradients = get_m_gradients(y, y_predictions, m)\n",
    "# c_gradients = get_c_gradients(y, y_predictions)\n",
    "\n",
    "# print \"M Gradients: \", m_gradients, \"\\nC gradients: \", c_gradients"
   ]
  },
  {
   "cell_type": "markdown",
   "metadata": {},
   "source": [
    "Adjust the weights with the gradients to reach the optimal values where SSE is minimized\n",
    "\n",
    "Update the random values of m and c in the direction that is optimal"
   ]
  },
  {
   "cell_type": "code",
   "execution_count": 45,
   "metadata": {},
   "outputs": [
    {
     "data": {
      "text/plain": [
       "0.41700000000000004"
      ]
     },
     "execution_count": 45,
     "metadata": {},
     "output_type": "execute_result"
    }
   ],
   "source": [
    "def get_new_equation_value(current_value, learning_rate, gradient_sum):\n",
    "    return current_value - (learning_rate * gradient_sum)\n",
    "\n",
    "# Update m and c\n",
    "# m = get_new_equation_value(m, learning_rate, sum(m_gradients))\n",
    "# c = get_new_equation_value(c, learning_rate, sum(c_gradients))"
   ]
  },
  {
   "cell_type": "markdown",
   "metadata": {},
   "source": [
    "### Running the Algorithm and adjusting the values\n",
    "\n",
    "Put it all together in an iterative function.\n",
    "The stopping condition? After 1000 epochs"
   ]
  },
  {
   "cell_type": "code",
   "execution_count": 56,
   "metadata": {},
   "outputs": [
    {
     "name": "stdout",
     "output_type": "stream",
     "text": [
      "M:  0.941027186073 \n",
      "C:  0.00847823165504\n"
     ]
    }
   ],
   "source": [
    "# X.flatten()\n",
    "def gradient_descent_runner(x_values, y_values, m, c, learning_rate, epoch=1000):\n",
    "    errors = []\n",
    "    m_c_values = [(m,c)]\n",
    "    for i in range(10):\n",
    "        \n",
    "        # Calculate y predictions using the initial m and c values for the equation\n",
    "        y_predictions = calculate_y_predictions(m, c, x_values)\n",
    "        sse_values = calculate_sse(y_values, y_predictions) \n",
    "        total_sse = sum(sse_values)\n",
    "        errors.append(total_sse)\n",
    "        \n",
    "        # Calculate error gradients with regard to the weights\n",
    "        m_gradients = get_m_gradients(y_values, y_predictions, x_values)\n",
    "        c_gradients = get_c_gradients(y_values, y_predictions)\n",
    "        \n",
    "        # Adjust the weights with the gradients to reach the optimal values where SSE is minimized\n",
    "        m = get_new_equation_value(m, learning_rate, sum(m_gradients))\n",
    "        c = get_new_equation_value(c, learning_rate, sum(c_gradients))\n",
    "        m_c_values.append((m,c))\n",
    "\n",
    "    return m, c\n",
    "\n",
    "m, c = gradient_descent_runner(X.flatten(), y, m, c, learning_rate, 10000)\n",
    "print \"M: \", m, \"\\nC: \", c\n",
    "       \n"
   ]
  },
  {
   "cell_type": "markdown",
   "metadata": {},
   "source": [
    "Thus, the Regression Line Formula:\n",
    "\n",
    "```\n",
    "y = 0.735997255434 (X) + 0.06973568802\n",
    "```\n",
    "\n",
    "Thus, the line passes through point 0.0697 on the y axis"
   ]
  },
  {
   "cell_type": "code",
   "execution_count": 57,
   "metadata": {},
   "outputs": [],
   "source": [
    "# def regression_model(m, c, x_value):\n",
    "#     return (m * x_value) + c\n",
    "    \n",
    "\n",
    "X_flat = X.flatten()\n",
    "# print X_flat[0]\n",
    "y_predictions = calculate_y_predictions(m, c, X_flat)\n",
    "    "
   ]
  },
  {
   "cell_type": "markdown",
   "metadata": {},
   "source": [
    "#### Plot Regression line"
   ]
  },
  {
   "cell_type": "code",
   "execution_count": 58,
   "metadata": {},
   "outputs": [
    {
     "data": {
      "text/plain": [
       "[<matplotlib.lines.Line2D at 0x10cf3c110>]"
      ]
     },
     "execution_count": 58,
     "metadata": {},
     "output_type": "execute_result"
    },
    {
     "data": {
      "image/png": "[encoded data removed]",
      "text/plain": [
       "<matplotlib.figure.Figure at 0x10cf3c890>"
      ]
     },
     "metadata": {},
     "output_type": "display_data"
    }
   ],
   "source": [
    "import matplotlib.pyplot as plt\n",
    "m, c = np.polyfit(X.flatten(), y_predictions, 1)\n",
    "plt.scatter(X, y);\n",
    "plt.plot(X, m*X + c, '-')"
   ]
  },
  {
   "cell_type": "code",
   "execution_count": null,
   "metadata": {},
   "outputs": [],
   "source": []
  }
 ],
 "metadata": {
  "kernelspec": {
   "display_name": "Python2.7 (NSE KE Prediction) ",
   "language": "python",
   "name": "nse-ke-prediction"
  },
  "language_info": {
   "codemirror_mode": {
    "name": "ipython",
    "version": 2
   },
   "file_extension": ".py",
   "mimetype": "text/x-python",
   "name": "python",
   "nbconvert_exporter": "python",
   "pygments_lexer": "ipython2",
   "version": "2.7.13"
  }
 },
 "nbformat": 4,
 "nbformat_minor": 2
}
